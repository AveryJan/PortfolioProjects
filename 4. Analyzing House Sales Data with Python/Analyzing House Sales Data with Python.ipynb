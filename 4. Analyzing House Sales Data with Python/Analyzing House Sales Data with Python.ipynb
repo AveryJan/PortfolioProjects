{
 "cells": [
  {
   "cell_type": "markdown",
   "metadata": {},
   "source": [
    "# Analyzing House Sales Data with Python"
   ]
  },
  {
   "cell_type": "markdown",
   "metadata": {},
   "source": [
    "### Avery Jan  \n",
    "\n",
    "### 2-16-2023"
   ]
  },
  {
   "cell_type": "markdown",
   "metadata": {},
   "source": [
    "***\n",
    "# Overview"
   ]
  },
  {
   "cell_type": "markdown",
   "metadata": {},
   "source": [
    "This project is about the analysis of a dataset that contains the house sales data in King County, USA. The project consists of five sections: \n",
    "\n",
    "(1) Importing the dataset: importing the dataset in a csv file format, converting it to a Pandas dataframe, checking the data types, and generating a short statistical summary of the dataset \n",
    "\n",
    "(2) Data Wrangling- removing unneeded columns from the dataframe, searching for the columns containing missing values, and replacing missing values with the means of their columns \n",
    "\n",
    "(3) Exploratory Data Analysis: carrying out correlation analysis with respect to the target variable 'price' to select features for fitting models, conducting pairwise correlation analysis to detect multicollinearity, visualizing the only feature that has binary values, and summarizing the types of houses by total number of floors) \n",
    "\n",
    "(4) Model Development: using a single feature to fit simple linear regressing models (SLR), using multiple features to fit a multiple linear regression model (MLR), transforming a single feature to fit a polynomial regression model (PR), and transforming multiple features to fit a multivariate polynomial regression model (MPR) \n",
    "\n",
    "(5) Model Evaluation and Refinement: evaluating the overfitting of MLR and MPR Models using training and testing data (out-of-sample validation, sample size = 0.15), performing Ridge regression on transformed multiple features using the same split data, determine the effects of Ridge Regression on the R^2 values (calculated from training and testing data) and the coefficients of transformed predictors. \n",
    "\n",
    "The overall comparison of model performance is made on cross-validated models while the studies on overfitting models and the effects of Ridge Regression on models are completed on out-of-sample validated models. R^2 value is the measure for assessing the performance of a model. Visualization tools such as box plot, heatmap, regression plots, residual plot, and bar plots are used to support the analyses throughout the project. At the end, key points derived from the last four sections of this project are included. "
   ]
  },
  {
   "cell_type": "markdown",
   "metadata": {},
   "source": [
    "\n",
    "## Dataset"
   ]
  },
  {
   "cell_type": "markdown",
   "metadata": {},
   "source": [
    "This dataset contains house sale prices for King County, which includes Seattle, USA. It includes homes sold between May 2014 and May 2015.\n",
    "https://cf-courses-data.s3.us.cloud-object-storage.appdomain.cloud/IBMDeveloperSkillsNetwork-DA0101EN-SkillsNetwork/labs/FinalModule_Coursera/data/kc_house_data_NaN.csv"
   ]
  },
  {
   "cell_type": "markdown",
   "metadata": {},
   "source": [
    "| Variable      | Description                                                                                                 |\n",
    "| ------------- | ----------------------------------------------------------------------------------------------------------- |\n",
    "| id            | A notation for a house                                                                                      |\n",
    "| date          | Date house was sold                                                                                         |\n",
    "| price         | Price is prediction target                                                                                  |\n",
    "| bedrooms      | Number of bedrooms                                                                                          |\n",
    "| bathrooms     | Number of bathrooms                                                                                         |\n",
    "| sqft_living   | Square footage of the home                                                                                  |\n",
    "| sqft_lot      | Square footage of the lot                                                                                   |\n",
    "| floors        | Total floors (levels) in house                                                                              |\n",
    "| waterfront    | House which has a view to a waterfront                                                                      |\n",
    "| view          | Has been viewed                                                                                             |\n",
    "| condition     | How good the condition is overall                                                                           |\n",
    "| grade         | overall grade given to the housing unit, based on King County grading system                                |\n",
    "| sqft_above    | Square footage of house apart from basement                                                                 |\n",
    "| sqft_basement | Square footage of the basement                                                                              |\n",
    "| yr_built      | Built Year                                                                                                  |\n",
    "| yr_renovated  | Year when house was renovated                                                                               |\n",
    "| zipcode       | Zip code                                                                                                    |\n",
    "| lat           | Latitude coordinate                                                                                         |\n",
    "| long          | Longitude coordinate                                                                                        |\n",
    "| sqft_living15 | Living room area in 2015(implies-- some renovations) This might or might not have affected the lotsize area |\n",
    "| sqft_lot15    | LotSize area in 2015(implies-- some renovations)                                                            |\n"
   ]
  },
  {
   "cell_type": "code",
   "execution_count": 1,
   "metadata": {},
   "outputs": [],
   "source": [
    "# Import required libraries.\n",
    "import pandas as pd\n",
    "import matplotlib.pyplot as plt\n",
    "import numpy as np\n",
    "import seaborn as sns\n",
    "from sklearn.pipeline import Pipeline\n",
    "from sklearn.preprocessing import StandardScaler,PolynomialFeatures\n",
    "from sklearn.linear_model import LinearRegression\n",
    "%matplotlib inline"
   ]
  },
  {
   "cell_type": "markdown",
   "metadata": {},
   "source": [
    " \n",
    " # 1. Importing Dataset\n",
    " "
   ]
  },
  {
   "cell_type": "code",
   "execution_count": 2,
   "metadata": {},
   "outputs": [],
   "source": [
    "# Load the csv file stored in the same directory as this ipynb file into a dataframe.\n",
    "df=pd.read_csv('kc_house_data_NaN.csv')"
   ]
  },
  {
   "cell_type": "code",
   "execution_count": 3,
   "metadata": {},
   "outputs": [
    {
     "data": {
      "text/html": [
       "<div>\n",
       "<style scoped>\n",
       "    .dataframe tbody tr th:only-of-type {\n",
       "        vertical-align: middle;\n",
       "    }\n",
       "\n",
       "    .dataframe tbody tr th {\n",
       "        vertical-align: top;\n",
       "    }\n",
       "\n",
       "    .dataframe thead th {\n",
       "        text-align: right;\n",
       "    }\n",
       "</style>\n",
       "<table border=\"1\" class=\"dataframe\">\n",
       "  <thead>\n",
       "    <tr style=\"text-align: right;\">\n",
       "      <th></th>\n",
       "      <th>Unnamed: 0</th>\n",
       "      <th>id</th>\n",
       "      <th>date</th>\n",
       "      <th>price</th>\n",
       "      <th>bedrooms</th>\n",
       "      <th>bathrooms</th>\n",
       "      <th>sqft_living</th>\n",
       "      <th>sqft_lot</th>\n",
       "      <th>floors</th>\n",
       "      <th>waterfront</th>\n",
       "      <th>...</th>\n",
       "      <th>grade</th>\n",
       "      <th>sqft_above</th>\n",
       "      <th>sqft_basement</th>\n",
       "      <th>yr_built</th>\n",
       "      <th>yr_renovated</th>\n",
       "      <th>zipcode</th>\n",
       "      <th>lat</th>\n",
       "      <th>long</th>\n",
       "      <th>sqft_living15</th>\n",
       "      <th>sqft_lot15</th>\n",
       "    </tr>\n",
       "  </thead>\n",
       "  <tbody>\n",
       "    <tr>\n",
       "      <th>0</th>\n",
       "      <td>0</td>\n",
       "      <td>7129300520</td>\n",
       "      <td>20141013T000000</td>\n",
       "      <td>221900.0</td>\n",
       "      <td>3.0</td>\n",
       "      <td>1.00</td>\n",
       "      <td>1180</td>\n",
       "      <td>5650</td>\n",
       "      <td>1.0</td>\n",
       "      <td>0</td>\n",
       "      <td>...</td>\n",
       "      <td>7</td>\n",
       "      <td>1180</td>\n",
       "      <td>0</td>\n",
       "      <td>1955</td>\n",
       "      <td>0</td>\n",
       "      <td>98178</td>\n",
       "      <td>47.5112</td>\n",
       "      <td>-122.257</td>\n",
       "      <td>1340</td>\n",
       "      <td>5650</td>\n",
       "    </tr>\n",
       "    <tr>\n",
       "      <th>1</th>\n",
       "      <td>1</td>\n",
       "      <td>6414100192</td>\n",
       "      <td>20141209T000000</td>\n",
       "      <td>538000.0</td>\n",
       "      <td>3.0</td>\n",
       "      <td>2.25</td>\n",
       "      <td>2570</td>\n",
       "      <td>7242</td>\n",
       "      <td>2.0</td>\n",
       "      <td>0</td>\n",
       "      <td>...</td>\n",
       "      <td>7</td>\n",
       "      <td>2170</td>\n",
       "      <td>400</td>\n",
       "      <td>1951</td>\n",
       "      <td>1991</td>\n",
       "      <td>98125</td>\n",
       "      <td>47.7210</td>\n",
       "      <td>-122.319</td>\n",
       "      <td>1690</td>\n",
       "      <td>7639</td>\n",
       "    </tr>\n",
       "    <tr>\n",
       "      <th>2</th>\n",
       "      <td>2</td>\n",
       "      <td>5631500400</td>\n",
       "      <td>20150225T000000</td>\n",
       "      <td>180000.0</td>\n",
       "      <td>2.0</td>\n",
       "      <td>1.00</td>\n",
       "      <td>770</td>\n",
       "      <td>10000</td>\n",
       "      <td>1.0</td>\n",
       "      <td>0</td>\n",
       "      <td>...</td>\n",
       "      <td>6</td>\n",
       "      <td>770</td>\n",
       "      <td>0</td>\n",
       "      <td>1933</td>\n",
       "      <td>0</td>\n",
       "      <td>98028</td>\n",
       "      <td>47.7379</td>\n",
       "      <td>-122.233</td>\n",
       "      <td>2720</td>\n",
       "      <td>8062</td>\n",
       "    </tr>\n",
       "    <tr>\n",
       "      <th>3</th>\n",
       "      <td>3</td>\n",
       "      <td>2487200875</td>\n",
       "      <td>20141209T000000</td>\n",
       "      <td>604000.0</td>\n",
       "      <td>4.0</td>\n",
       "      <td>3.00</td>\n",
       "      <td>1960</td>\n",
       "      <td>5000</td>\n",
       "      <td>1.0</td>\n",
       "      <td>0</td>\n",
       "      <td>...</td>\n",
       "      <td>7</td>\n",
       "      <td>1050</td>\n",
       "      <td>910</td>\n",
       "      <td>1965</td>\n",
       "      <td>0</td>\n",
       "      <td>98136</td>\n",
       "      <td>47.5208</td>\n",
       "      <td>-122.393</td>\n",
       "      <td>1360</td>\n",
       "      <td>5000</td>\n",
       "    </tr>\n",
       "    <tr>\n",
       "      <th>4</th>\n",
       "      <td>4</td>\n",
       "      <td>1954400510</td>\n",
       "      <td>20150218T000000</td>\n",
       "      <td>510000.0</td>\n",
       "      <td>3.0</td>\n",
       "      <td>2.00</td>\n",
       "      <td>1680</td>\n",
       "      <td>8080</td>\n",
       "      <td>1.0</td>\n",
       "      <td>0</td>\n",
       "      <td>...</td>\n",
       "      <td>8</td>\n",
       "      <td>1680</td>\n",
       "      <td>0</td>\n",
       "      <td>1987</td>\n",
       "      <td>0</td>\n",
       "      <td>98074</td>\n",
       "      <td>47.6168</td>\n",
       "      <td>-122.045</td>\n",
       "      <td>1800</td>\n",
       "      <td>7503</td>\n",
       "    </tr>\n",
       "    <tr>\n",
       "      <th>...</th>\n",
       "      <td>...</td>\n",
       "      <td>...</td>\n",
       "      <td>...</td>\n",
       "      <td>...</td>\n",
       "      <td>...</td>\n",
       "      <td>...</td>\n",
       "      <td>...</td>\n",
       "      <td>...</td>\n",
       "      <td>...</td>\n",
       "      <td>...</td>\n",
       "      <td>...</td>\n",
       "      <td>...</td>\n",
       "      <td>...</td>\n",
       "      <td>...</td>\n",
       "      <td>...</td>\n",
       "      <td>...</td>\n",
       "      <td>...</td>\n",
       "      <td>...</td>\n",
       "      <td>...</td>\n",
       "      <td>...</td>\n",
       "      <td>...</td>\n",
       "    </tr>\n",
       "    <tr>\n",
       "      <th>21608</th>\n",
       "      <td>21608</td>\n",
       "      <td>263000018</td>\n",
       "      <td>20140521T000000</td>\n",
       "      <td>360000.0</td>\n",
       "      <td>3.0</td>\n",
       "      <td>2.50</td>\n",
       "      <td>1530</td>\n",
       "      <td>1131</td>\n",
       "      <td>3.0</td>\n",
       "      <td>0</td>\n",
       "      <td>...</td>\n",
       "      <td>8</td>\n",
       "      <td>1530</td>\n",
       "      <td>0</td>\n",
       "      <td>2009</td>\n",
       "      <td>0</td>\n",
       "      <td>98103</td>\n",
       "      <td>47.6993</td>\n",
       "      <td>-122.346</td>\n",
       "      <td>1530</td>\n",
       "      <td>1509</td>\n",
       "    </tr>\n",
       "    <tr>\n",
       "      <th>21609</th>\n",
       "      <td>21609</td>\n",
       "      <td>6600060120</td>\n",
       "      <td>20150223T000000</td>\n",
       "      <td>400000.0</td>\n",
       "      <td>4.0</td>\n",
       "      <td>2.50</td>\n",
       "      <td>2310</td>\n",
       "      <td>5813</td>\n",
       "      <td>2.0</td>\n",
       "      <td>0</td>\n",
       "      <td>...</td>\n",
       "      <td>8</td>\n",
       "      <td>2310</td>\n",
       "      <td>0</td>\n",
       "      <td>2014</td>\n",
       "      <td>0</td>\n",
       "      <td>98146</td>\n",
       "      <td>47.5107</td>\n",
       "      <td>-122.362</td>\n",
       "      <td>1830</td>\n",
       "      <td>7200</td>\n",
       "    </tr>\n",
       "    <tr>\n",
       "      <th>21610</th>\n",
       "      <td>21610</td>\n",
       "      <td>1523300141</td>\n",
       "      <td>20140623T000000</td>\n",
       "      <td>402101.0</td>\n",
       "      <td>2.0</td>\n",
       "      <td>0.75</td>\n",
       "      <td>1020</td>\n",
       "      <td>1350</td>\n",
       "      <td>2.0</td>\n",
       "      <td>0</td>\n",
       "      <td>...</td>\n",
       "      <td>7</td>\n",
       "      <td>1020</td>\n",
       "      <td>0</td>\n",
       "      <td>2009</td>\n",
       "      <td>0</td>\n",
       "      <td>98144</td>\n",
       "      <td>47.5944</td>\n",
       "      <td>-122.299</td>\n",
       "      <td>1020</td>\n",
       "      <td>2007</td>\n",
       "    </tr>\n",
       "    <tr>\n",
       "      <th>21611</th>\n",
       "      <td>21611</td>\n",
       "      <td>291310100</td>\n",
       "      <td>20150116T000000</td>\n",
       "      <td>400000.0</td>\n",
       "      <td>3.0</td>\n",
       "      <td>2.50</td>\n",
       "      <td>1600</td>\n",
       "      <td>2388</td>\n",
       "      <td>2.0</td>\n",
       "      <td>0</td>\n",
       "      <td>...</td>\n",
       "      <td>8</td>\n",
       "      <td>1600</td>\n",
       "      <td>0</td>\n",
       "      <td>2004</td>\n",
       "      <td>0</td>\n",
       "      <td>98027</td>\n",
       "      <td>47.5345</td>\n",
       "      <td>-122.069</td>\n",
       "      <td>1410</td>\n",
       "      <td>1287</td>\n",
       "    </tr>\n",
       "    <tr>\n",
       "      <th>21612</th>\n",
       "      <td>21612</td>\n",
       "      <td>1523300157</td>\n",
       "      <td>20141015T000000</td>\n",
       "      <td>325000.0</td>\n",
       "      <td>2.0</td>\n",
       "      <td>0.75</td>\n",
       "      <td>1020</td>\n",
       "      <td>1076</td>\n",
       "      <td>2.0</td>\n",
       "      <td>0</td>\n",
       "      <td>...</td>\n",
       "      <td>7</td>\n",
       "      <td>1020</td>\n",
       "      <td>0</td>\n",
       "      <td>2008</td>\n",
       "      <td>0</td>\n",
       "      <td>98144</td>\n",
       "      <td>47.5941</td>\n",
       "      <td>-122.299</td>\n",
       "      <td>1020</td>\n",
       "      <td>1357</td>\n",
       "    </tr>\n",
       "  </tbody>\n",
       "</table>\n",
       "<p>21613 rows × 22 columns</p>\n",
       "</div>"
      ],
      "text/plain": [
       "       Unnamed: 0          id             date     price  bedrooms  bathrooms  \\\n",
       "0               0  7129300520  20141013T000000  221900.0       3.0       1.00   \n",
       "1               1  6414100192  20141209T000000  538000.0       3.0       2.25   \n",
       "2               2  5631500400  20150225T000000  180000.0       2.0       1.00   \n",
       "3               3  2487200875  20141209T000000  604000.0       4.0       3.00   \n",
       "4               4  1954400510  20150218T000000  510000.0       3.0       2.00   \n",
       "...           ...         ...              ...       ...       ...        ...   \n",
       "21608       21608   263000018  20140521T000000  360000.0       3.0       2.50   \n",
       "21609       21609  6600060120  20150223T000000  400000.0       4.0       2.50   \n",
       "21610       21610  1523300141  20140623T000000  402101.0       2.0       0.75   \n",
       "21611       21611   291310100  20150116T000000  400000.0       3.0       2.50   \n",
       "21612       21612  1523300157  20141015T000000  325000.0       2.0       0.75   \n",
       "\n",
       "       sqft_living  sqft_lot  floors  waterfront  ...  grade  sqft_above  \\\n",
       "0             1180      5650     1.0           0  ...      7        1180   \n",
       "1             2570      7242     2.0           0  ...      7        2170   \n",
       "2              770     10000     1.0           0  ...      6         770   \n",
       "3             1960      5000     1.0           0  ...      7        1050   \n",
       "4             1680      8080     1.0           0  ...      8        1680   \n",
       "...            ...       ...     ...         ...  ...    ...         ...   \n",
       "21608         1530      1131     3.0           0  ...      8        1530   \n",
       "21609         2310      5813     2.0           0  ...      8        2310   \n",
       "21610         1020      1350     2.0           0  ...      7        1020   \n",
       "21611         1600      2388     2.0           0  ...      8        1600   \n",
       "21612         1020      1076     2.0           0  ...      7        1020   \n",
       "\n",
       "       sqft_basement  yr_built  yr_renovated  zipcode      lat     long  \\\n",
       "0                  0      1955             0    98178  47.5112 -122.257   \n",
       "1                400      1951          1991    98125  47.7210 -122.319   \n",
       "2                  0      1933             0    98028  47.7379 -122.233   \n",
       "3                910      1965             0    98136  47.5208 -122.393   \n",
       "4                  0      1987             0    98074  47.6168 -122.045   \n",
       "...              ...       ...           ...      ...      ...      ...   \n",
       "21608              0      2009             0    98103  47.6993 -122.346   \n",
       "21609              0      2014             0    98146  47.5107 -122.362   \n",
       "21610              0      2009             0    98144  47.5944 -122.299   \n",
       "21611              0      2004             0    98027  47.5345 -122.069   \n",
       "21612              0      2008             0    98144  47.5941 -122.299   \n",
       "\n",
       "       sqft_living15  sqft_lot15  \n",
       "0               1340        5650  \n",
       "1               1690        7639  \n",
       "2               2720        8062  \n",
       "3               1360        5000  \n",
       "4               1800        7503  \n",
       "...              ...         ...  \n",
       "21608           1530        1509  \n",
       "21609           1830        7200  \n",
       "21610           1020        2007  \n",
       "21611           1410        1287  \n",
       "21612           1020        1357  \n",
       "\n",
       "[21613 rows x 22 columns]"
      ]
     },
     "execution_count": 3,
     "metadata": {},
     "output_type": "execute_result"
    }
   ],
   "source": [
    "# Display the dataframe to have a quick view of the dataset and to find the number of data in the dataset, i. e. \n",
    "# the number of rows in dataframe, df. \n",
    "df"
   ]
  },
  {
   "cell_type": "code",
   "execution_count": 4,
   "metadata": {
    "jupyter": {
     "outputs_hidden": false
    }
   },
   "outputs": [
    {
     "data": {
      "text/plain": [
       "Unnamed: 0         int64\n",
       "id                 int64\n",
       "date              object\n",
       "price            float64\n",
       "bedrooms         float64\n",
       "bathrooms        float64\n",
       "sqft_living        int64\n",
       "sqft_lot           int64\n",
       "floors           float64\n",
       "waterfront         int64\n",
       "view               int64\n",
       "condition          int64\n",
       "grade              int64\n",
       "sqft_above         int64\n",
       "sqft_basement      int64\n",
       "yr_built           int64\n",
       "yr_renovated       int64\n",
       "zipcode            int64\n",
       "lat              float64\n",
       "long             float64\n",
       "sqft_living15      int64\n",
       "sqft_lot15         int64\n",
       "dtype: object"
      ]
     },
     "execution_count": 4,
     "metadata": {},
     "output_type": "execute_result"
    }
   ],
   "source": [
    "# Display the data types of each column in the dataframe to check if there are any column needs to change its data type. \n",
    "df.dtypes"
   ]
  },
  {
   "cell_type": "code",
   "execution_count": 5,
   "metadata": {
    "jupyter": {
     "outputs_hidden": false
    }
   },
   "outputs": [
    {
     "data": {
      "text/html": [
       "<div>\n",
       "<style scoped>\n",
       "    .dataframe tbody tr th:only-of-type {\n",
       "        vertical-align: middle;\n",
       "    }\n",
       "\n",
       "    .dataframe tbody tr th {\n",
       "        vertical-align: top;\n",
       "    }\n",
       "\n",
       "    .dataframe thead th {\n",
       "        text-align: right;\n",
       "    }\n",
       "</style>\n",
       "<table border=\"1\" class=\"dataframe\">\n",
       "  <thead>\n",
       "    <tr style=\"text-align: right;\">\n",
       "      <th></th>\n",
       "      <th>Unnamed: 0</th>\n",
       "      <th>id</th>\n",
       "      <th>price</th>\n",
       "      <th>bedrooms</th>\n",
       "      <th>bathrooms</th>\n",
       "      <th>sqft_living</th>\n",
       "      <th>sqft_lot</th>\n",
       "      <th>floors</th>\n",
       "      <th>waterfront</th>\n",
       "      <th>view</th>\n",
       "      <th>...</th>\n",
       "      <th>grade</th>\n",
       "      <th>sqft_above</th>\n",
       "      <th>sqft_basement</th>\n",
       "      <th>yr_built</th>\n",
       "      <th>yr_renovated</th>\n",
       "      <th>zipcode</th>\n",
       "      <th>lat</th>\n",
       "      <th>long</th>\n",
       "      <th>sqft_living15</th>\n",
       "      <th>sqft_lot15</th>\n",
       "    </tr>\n",
       "  </thead>\n",
       "  <tbody>\n",
       "    <tr>\n",
       "      <th>count</th>\n",
       "      <td>21613.00000</td>\n",
       "      <td>2.161300e+04</td>\n",
       "      <td>2.161300e+04</td>\n",
       "      <td>21600.000000</td>\n",
       "      <td>21603.000000</td>\n",
       "      <td>21613.000000</td>\n",
       "      <td>2.161300e+04</td>\n",
       "      <td>21613.000000</td>\n",
       "      <td>21613.000000</td>\n",
       "      <td>21613.000000</td>\n",
       "      <td>...</td>\n",
       "      <td>21613.000000</td>\n",
       "      <td>21613.000000</td>\n",
       "      <td>21613.000000</td>\n",
       "      <td>21613.000000</td>\n",
       "      <td>21613.000000</td>\n",
       "      <td>21613.000000</td>\n",
       "      <td>21613.000000</td>\n",
       "      <td>21613.000000</td>\n",
       "      <td>21613.000000</td>\n",
       "      <td>21613.000000</td>\n",
       "    </tr>\n",
       "    <tr>\n",
       "      <th>mean</th>\n",
       "      <td>10806.00000</td>\n",
       "      <td>4.580302e+09</td>\n",
       "      <td>5.400881e+05</td>\n",
       "      <td>3.372870</td>\n",
       "      <td>2.115736</td>\n",
       "      <td>2079.899736</td>\n",
       "      <td>1.510697e+04</td>\n",
       "      <td>1.494309</td>\n",
       "      <td>0.007542</td>\n",
       "      <td>0.234303</td>\n",
       "      <td>...</td>\n",
       "      <td>7.656873</td>\n",
       "      <td>1788.390691</td>\n",
       "      <td>291.509045</td>\n",
       "      <td>1971.005136</td>\n",
       "      <td>84.402258</td>\n",
       "      <td>98077.939805</td>\n",
       "      <td>47.560053</td>\n",
       "      <td>-122.213896</td>\n",
       "      <td>1986.552492</td>\n",
       "      <td>12768.455652</td>\n",
       "    </tr>\n",
       "    <tr>\n",
       "      <th>std</th>\n",
       "      <td>6239.28002</td>\n",
       "      <td>2.876566e+09</td>\n",
       "      <td>3.671272e+05</td>\n",
       "      <td>0.926657</td>\n",
       "      <td>0.768996</td>\n",
       "      <td>918.440897</td>\n",
       "      <td>4.142051e+04</td>\n",
       "      <td>0.539989</td>\n",
       "      <td>0.086517</td>\n",
       "      <td>0.766318</td>\n",
       "      <td>...</td>\n",
       "      <td>1.175459</td>\n",
       "      <td>828.090978</td>\n",
       "      <td>442.575043</td>\n",
       "      <td>29.373411</td>\n",
       "      <td>401.679240</td>\n",
       "      <td>53.505026</td>\n",
       "      <td>0.138564</td>\n",
       "      <td>0.140828</td>\n",
       "      <td>685.391304</td>\n",
       "      <td>27304.179631</td>\n",
       "    </tr>\n",
       "    <tr>\n",
       "      <th>min</th>\n",
       "      <td>0.00000</td>\n",
       "      <td>1.000102e+06</td>\n",
       "      <td>7.500000e+04</td>\n",
       "      <td>1.000000</td>\n",
       "      <td>0.500000</td>\n",
       "      <td>290.000000</td>\n",
       "      <td>5.200000e+02</td>\n",
       "      <td>1.000000</td>\n",
       "      <td>0.000000</td>\n",
       "      <td>0.000000</td>\n",
       "      <td>...</td>\n",
       "      <td>1.000000</td>\n",
       "      <td>290.000000</td>\n",
       "      <td>0.000000</td>\n",
       "      <td>1900.000000</td>\n",
       "      <td>0.000000</td>\n",
       "      <td>98001.000000</td>\n",
       "      <td>47.155900</td>\n",
       "      <td>-122.519000</td>\n",
       "      <td>399.000000</td>\n",
       "      <td>651.000000</td>\n",
       "    </tr>\n",
       "    <tr>\n",
       "      <th>25%</th>\n",
       "      <td>5403.00000</td>\n",
       "      <td>2.123049e+09</td>\n",
       "      <td>3.219500e+05</td>\n",
       "      <td>3.000000</td>\n",
       "      <td>1.750000</td>\n",
       "      <td>1427.000000</td>\n",
       "      <td>5.040000e+03</td>\n",
       "      <td>1.000000</td>\n",
       "      <td>0.000000</td>\n",
       "      <td>0.000000</td>\n",
       "      <td>...</td>\n",
       "      <td>7.000000</td>\n",
       "      <td>1190.000000</td>\n",
       "      <td>0.000000</td>\n",
       "      <td>1951.000000</td>\n",
       "      <td>0.000000</td>\n",
       "      <td>98033.000000</td>\n",
       "      <td>47.471000</td>\n",
       "      <td>-122.328000</td>\n",
       "      <td>1490.000000</td>\n",
       "      <td>5100.000000</td>\n",
       "    </tr>\n",
       "    <tr>\n",
       "      <th>50%</th>\n",
       "      <td>10806.00000</td>\n",
       "      <td>3.904930e+09</td>\n",
       "      <td>4.500000e+05</td>\n",
       "      <td>3.000000</td>\n",
       "      <td>2.250000</td>\n",
       "      <td>1910.000000</td>\n",
       "      <td>7.618000e+03</td>\n",
       "      <td>1.500000</td>\n",
       "      <td>0.000000</td>\n",
       "      <td>0.000000</td>\n",
       "      <td>...</td>\n",
       "      <td>7.000000</td>\n",
       "      <td>1560.000000</td>\n",
       "      <td>0.000000</td>\n",
       "      <td>1975.000000</td>\n",
       "      <td>0.000000</td>\n",
       "      <td>98065.000000</td>\n",
       "      <td>47.571800</td>\n",
       "      <td>-122.230000</td>\n",
       "      <td>1840.000000</td>\n",
       "      <td>7620.000000</td>\n",
       "    </tr>\n",
       "    <tr>\n",
       "      <th>75%</th>\n",
       "      <td>16209.00000</td>\n",
       "      <td>7.308900e+09</td>\n",
       "      <td>6.450000e+05</td>\n",
       "      <td>4.000000</td>\n",
       "      <td>2.500000</td>\n",
       "      <td>2550.000000</td>\n",
       "      <td>1.068800e+04</td>\n",
       "      <td>2.000000</td>\n",
       "      <td>0.000000</td>\n",
       "      <td>0.000000</td>\n",
       "      <td>...</td>\n",
       "      <td>8.000000</td>\n",
       "      <td>2210.000000</td>\n",
       "      <td>560.000000</td>\n",
       "      <td>1997.000000</td>\n",
       "      <td>0.000000</td>\n",
       "      <td>98118.000000</td>\n",
       "      <td>47.678000</td>\n",
       "      <td>-122.125000</td>\n",
       "      <td>2360.000000</td>\n",
       "      <td>10083.000000</td>\n",
       "    </tr>\n",
       "    <tr>\n",
       "      <th>max</th>\n",
       "      <td>21612.00000</td>\n",
       "      <td>9.900000e+09</td>\n",
       "      <td>7.700000e+06</td>\n",
       "      <td>33.000000</td>\n",
       "      <td>8.000000</td>\n",
       "      <td>13540.000000</td>\n",
       "      <td>1.651359e+06</td>\n",
       "      <td>3.500000</td>\n",
       "      <td>1.000000</td>\n",
       "      <td>4.000000</td>\n",
       "      <td>...</td>\n",
       "      <td>13.000000</td>\n",
       "      <td>9410.000000</td>\n",
       "      <td>4820.000000</td>\n",
       "      <td>2015.000000</td>\n",
       "      <td>2015.000000</td>\n",
       "      <td>98199.000000</td>\n",
       "      <td>47.777600</td>\n",
       "      <td>-121.315000</td>\n",
       "      <td>6210.000000</td>\n",
       "      <td>871200.000000</td>\n",
       "    </tr>\n",
       "  </tbody>\n",
       "</table>\n",
       "<p>8 rows × 21 columns</p>\n",
       "</div>"
      ],
      "text/plain": [
       "        Unnamed: 0            id         price      bedrooms     bathrooms  \\\n",
       "count  21613.00000  2.161300e+04  2.161300e+04  21600.000000  21603.000000   \n",
       "mean   10806.00000  4.580302e+09  5.400881e+05      3.372870      2.115736   \n",
       "std     6239.28002  2.876566e+09  3.671272e+05      0.926657      0.768996   \n",
       "min        0.00000  1.000102e+06  7.500000e+04      1.000000      0.500000   \n",
       "25%     5403.00000  2.123049e+09  3.219500e+05      3.000000      1.750000   \n",
       "50%    10806.00000  3.904930e+09  4.500000e+05      3.000000      2.250000   \n",
       "75%    16209.00000  7.308900e+09  6.450000e+05      4.000000      2.500000   \n",
       "max    21612.00000  9.900000e+09  7.700000e+06     33.000000      8.000000   \n",
       "\n",
       "        sqft_living      sqft_lot        floors    waterfront          view  \\\n",
       "count  21613.000000  2.161300e+04  21613.000000  21613.000000  21613.000000   \n",
       "mean    2079.899736  1.510697e+04      1.494309      0.007542      0.234303   \n",
       "std      918.440897  4.142051e+04      0.539989      0.086517      0.766318   \n",
       "min      290.000000  5.200000e+02      1.000000      0.000000      0.000000   \n",
       "25%     1427.000000  5.040000e+03      1.000000      0.000000      0.000000   \n",
       "50%     1910.000000  7.618000e+03      1.500000      0.000000      0.000000   \n",
       "75%     2550.000000  1.068800e+04      2.000000      0.000000      0.000000   \n",
       "max    13540.000000  1.651359e+06      3.500000      1.000000      4.000000   \n",
       "\n",
       "       ...         grade    sqft_above  sqft_basement      yr_built  \\\n",
       "count  ...  21613.000000  21613.000000   21613.000000  21613.000000   \n",
       "mean   ...      7.656873   1788.390691     291.509045   1971.005136   \n",
       "std    ...      1.175459    828.090978     442.575043     29.373411   \n",
       "min    ...      1.000000    290.000000       0.000000   1900.000000   \n",
       "25%    ...      7.000000   1190.000000       0.000000   1951.000000   \n",
       "50%    ...      7.000000   1560.000000       0.000000   1975.000000   \n",
       "75%    ...      8.000000   2210.000000     560.000000   1997.000000   \n",
       "max    ...     13.000000   9410.000000    4820.000000   2015.000000   \n",
       "\n",
       "       yr_renovated       zipcode           lat          long  sqft_living15  \\\n",
       "count  21613.000000  21613.000000  21613.000000  21613.000000   21613.000000   \n",
       "mean      84.402258  98077.939805     47.560053   -122.213896    1986.552492   \n",
       "std      401.679240     53.505026      0.138564      0.140828     685.391304   \n",
       "min        0.000000  98001.000000     47.155900   -122.519000     399.000000   \n",
       "25%        0.000000  98033.000000     47.471000   -122.328000    1490.000000   \n",
       "50%        0.000000  98065.000000     47.571800   -122.230000    1840.000000   \n",
       "75%        0.000000  98118.000000     47.678000   -122.125000    2360.000000   \n",
       "max     2015.000000  98199.000000     47.777600   -121.315000    6210.000000   \n",
       "\n",
       "          sqft_lot15  \n",
       "count   21613.000000  \n",
       "mean    12768.455652  \n",
       "std     27304.179631  \n",
       "min       651.000000  \n",
       "25%      5100.000000  \n",
       "50%      7620.000000  \n",
       "75%     10083.000000  \n",
       "max    871200.000000  \n",
       "\n",
       "[8 rows x 21 columns]"
      ]
     },
     "execution_count": 5,
     "metadata": {},
     "output_type": "execute_result"
    }
   ],
   "source": [
    "# Get a statistical summary of the data.\n",
    "df.describe()"
   ]
  },
  {
   "cell_type": "markdown",
   "metadata": {},
   "source": [
    "## Summary (Importing Dataset)\n",
    "\n",
    "1. A house sales dataset in the csv format was imported and loaded to a dataframe\n",
    "2. The data type of all columns were checked. They all have an appropriate data type. \n",
    "3. A brief statistic summary of the dataset was acquired. The average price of homes is 549,988 dollars, the price at first quartile is 321,950 dollars, and the price at third quartile is 645,000 dollars. These prices will be used to check whether the prices predicted by a model make sense or not during the upcoming model development. "
   ]
  },
  {
   "cell_type": "markdown",
   "metadata": {},
   "source": [
    "\n",
    "# 2. Data Wrangling\n"
   ]
  },
  {
   "cell_type": "markdown",
   "metadata": {},
   "source": [
    "## Introduction:\n",
    "Because the focus of this project is to find models that can predict the price of a house in King County, this section includes those tasks on getting the dataframe ready for the model development. Data wrangling tasks performed in this section are: (1) Drop the columns of which the values are not logically related to the target feature, 'price.' (2) Use a for loop to check all columns for missing values (3) Identify the columns containing missing values (4) Calculate the means of those columns and replace missing values with these means.       "
   ]
  },
  {
   "cell_type": "code",
   "execution_count": 6,
   "metadata": {
    "jupyter": {
     "outputs_hidden": false
    }
   },
   "outputs": [
    {
     "data": {
      "text/html": [
       "<div>\n",
       "<style scoped>\n",
       "    .dataframe tbody tr th:only-of-type {\n",
       "        vertical-align: middle;\n",
       "    }\n",
       "\n",
       "    .dataframe tbody tr th {\n",
       "        vertical-align: top;\n",
       "    }\n",
       "\n",
       "    .dataframe thead th {\n",
       "        text-align: right;\n",
       "    }\n",
       "</style>\n",
       "<table border=\"1\" class=\"dataframe\">\n",
       "  <thead>\n",
       "    <tr style=\"text-align: right;\">\n",
       "      <th></th>\n",
       "      <th>price</th>\n",
       "      <th>bedrooms</th>\n",
       "      <th>bathrooms</th>\n",
       "      <th>sqft_living</th>\n",
       "      <th>sqft_lot</th>\n",
       "      <th>floors</th>\n",
       "      <th>waterfront</th>\n",
       "      <th>view</th>\n",
       "      <th>condition</th>\n",
       "      <th>grade</th>\n",
       "      <th>sqft_above</th>\n",
       "      <th>sqft_basement</th>\n",
       "      <th>yr_built</th>\n",
       "      <th>yr_renovated</th>\n",
       "      <th>zipcode</th>\n",
       "      <th>lat</th>\n",
       "      <th>long</th>\n",
       "      <th>sqft_living15</th>\n",
       "      <th>sqft_lot15</th>\n",
       "    </tr>\n",
       "  </thead>\n",
       "  <tbody>\n",
       "    <tr>\n",
       "      <th>count</th>\n",
       "      <td>2.161300e+04</td>\n",
       "      <td>21600.000000</td>\n",
       "      <td>21603.000000</td>\n",
       "      <td>21613.000000</td>\n",
       "      <td>2.161300e+04</td>\n",
       "      <td>21613.000000</td>\n",
       "      <td>21613.000000</td>\n",
       "      <td>21613.000000</td>\n",
       "      <td>21613.000000</td>\n",
       "      <td>21613.000000</td>\n",
       "      <td>21613.000000</td>\n",
       "      <td>21613.000000</td>\n",
       "      <td>21613.000000</td>\n",
       "      <td>21613.000000</td>\n",
       "      <td>21613.000000</td>\n",
       "      <td>21613.000000</td>\n",
       "      <td>21613.000000</td>\n",
       "      <td>21613.000000</td>\n",
       "      <td>21613.000000</td>\n",
       "    </tr>\n",
       "    <tr>\n",
       "      <th>mean</th>\n",
       "      <td>5.400881e+05</td>\n",
       "      <td>3.372870</td>\n",
       "      <td>2.115736</td>\n",
       "      <td>2079.899736</td>\n",
       "      <td>1.510697e+04</td>\n",
       "      <td>1.494309</td>\n",
       "      <td>0.007542</td>\n",
       "      <td>0.234303</td>\n",
       "      <td>3.409430</td>\n",
       "      <td>7.656873</td>\n",
       "      <td>1788.390691</td>\n",
       "      <td>291.509045</td>\n",
       "      <td>1971.005136</td>\n",
       "      <td>84.402258</td>\n",
       "      <td>98077.939805</td>\n",
       "      <td>47.560053</td>\n",
       "      <td>-122.213896</td>\n",
       "      <td>1986.552492</td>\n",
       "      <td>12768.455652</td>\n",
       "    </tr>\n",
       "    <tr>\n",
       "      <th>std</th>\n",
       "      <td>3.671272e+05</td>\n",
       "      <td>0.926657</td>\n",
       "      <td>0.768996</td>\n",
       "      <td>918.440897</td>\n",
       "      <td>4.142051e+04</td>\n",
       "      <td>0.539989</td>\n",
       "      <td>0.086517</td>\n",
       "      <td>0.766318</td>\n",
       "      <td>0.650743</td>\n",
       "      <td>1.175459</td>\n",
       "      <td>828.090978</td>\n",
       "      <td>442.575043</td>\n",
       "      <td>29.373411</td>\n",
       "      <td>401.679240</td>\n",
       "      <td>53.505026</td>\n",
       "      <td>0.138564</td>\n",
       "      <td>0.140828</td>\n",
       "      <td>685.391304</td>\n",
       "      <td>27304.179631</td>\n",
       "    </tr>\n",
       "    <tr>\n",
       "      <th>min</th>\n",
       "      <td>7.500000e+04</td>\n",
       "      <td>1.000000</td>\n",
       "      <td>0.500000</td>\n",
       "      <td>290.000000</td>\n",
       "      <td>5.200000e+02</td>\n",
       "      <td>1.000000</td>\n",
       "      <td>0.000000</td>\n",
       "      <td>0.000000</td>\n",
       "      <td>1.000000</td>\n",
       "      <td>1.000000</td>\n",
       "      <td>290.000000</td>\n",
       "      <td>0.000000</td>\n",
       "      <td>1900.000000</td>\n",
       "      <td>0.000000</td>\n",
       "      <td>98001.000000</td>\n",
       "      <td>47.155900</td>\n",
       "      <td>-122.519000</td>\n",
       "      <td>399.000000</td>\n",
       "      <td>651.000000</td>\n",
       "    </tr>\n",
       "    <tr>\n",
       "      <th>25%</th>\n",
       "      <td>3.219500e+05</td>\n",
       "      <td>3.000000</td>\n",
       "      <td>1.750000</td>\n",
       "      <td>1427.000000</td>\n",
       "      <td>5.040000e+03</td>\n",
       "      <td>1.000000</td>\n",
       "      <td>0.000000</td>\n",
       "      <td>0.000000</td>\n",
       "      <td>3.000000</td>\n",
       "      <td>7.000000</td>\n",
       "      <td>1190.000000</td>\n",
       "      <td>0.000000</td>\n",
       "      <td>1951.000000</td>\n",
       "      <td>0.000000</td>\n",
       "      <td>98033.000000</td>\n",
       "      <td>47.471000</td>\n",
       "      <td>-122.328000</td>\n",
       "      <td>1490.000000</td>\n",
       "      <td>5100.000000</td>\n",
       "    </tr>\n",
       "    <tr>\n",
       "      <th>50%</th>\n",
       "      <td>4.500000e+05</td>\n",
       "      <td>3.000000</td>\n",
       "      <td>2.250000</td>\n",
       "      <td>1910.000000</td>\n",
       "      <td>7.618000e+03</td>\n",
       "      <td>1.500000</td>\n",
       "      <td>0.000000</td>\n",
       "      <td>0.000000</td>\n",
       "      <td>3.000000</td>\n",
       "      <td>7.000000</td>\n",
       "      <td>1560.000000</td>\n",
       "      <td>0.000000</td>\n",
       "      <td>1975.000000</td>\n",
       "      <td>0.000000</td>\n",
       "      <td>98065.000000</td>\n",
       "      <td>47.571800</td>\n",
       "      <td>-122.230000</td>\n",
       "      <td>1840.000000</td>\n",
       "      <td>7620.000000</td>\n",
       "    </tr>\n",
       "    <tr>\n",
       "      <th>75%</th>\n",
       "      <td>6.450000e+05</td>\n",
       "      <td>4.000000</td>\n",
       "      <td>2.500000</td>\n",
       "      <td>2550.000000</td>\n",
       "      <td>1.068800e+04</td>\n",
       "      <td>2.000000</td>\n",
       "      <td>0.000000</td>\n",
       "      <td>0.000000</td>\n",
       "      <td>4.000000</td>\n",
       "      <td>8.000000</td>\n",
       "      <td>2210.000000</td>\n",
       "      <td>560.000000</td>\n",
       "      <td>1997.000000</td>\n",
       "      <td>0.000000</td>\n",
       "      <td>98118.000000</td>\n",
       "      <td>47.678000</td>\n",
       "      <td>-122.125000</td>\n",
       "      <td>2360.000000</td>\n",
       "      <td>10083.000000</td>\n",
       "    </tr>\n",
       "    <tr>\n",
       "      <th>max</th>\n",
       "      <td>7.700000e+06</td>\n",
       "      <td>33.000000</td>\n",
       "      <td>8.000000</td>\n",
       "      <td>13540.000000</td>\n",
       "      <td>1.651359e+06</td>\n",
       "      <td>3.500000</td>\n",
       "      <td>1.000000</td>\n",
       "      <td>4.000000</td>\n",
       "      <td>5.000000</td>\n",
       "      <td>13.000000</td>\n",
       "      <td>9410.000000</td>\n",
       "      <td>4820.000000</td>\n",
       "      <td>2015.000000</td>\n",
       "      <td>2015.000000</td>\n",
       "      <td>98199.000000</td>\n",
       "      <td>47.777600</td>\n",
       "      <td>-121.315000</td>\n",
       "      <td>6210.000000</td>\n",
       "      <td>871200.000000</td>\n",
       "    </tr>\n",
       "  </tbody>\n",
       "</table>\n",
       "</div>"
      ],
      "text/plain": [
       "              price      bedrooms     bathrooms   sqft_living      sqft_lot  \\\n",
       "count  2.161300e+04  21600.000000  21603.000000  21613.000000  2.161300e+04   \n",
       "mean   5.400881e+05      3.372870      2.115736   2079.899736  1.510697e+04   \n",
       "std    3.671272e+05      0.926657      0.768996    918.440897  4.142051e+04   \n",
       "min    7.500000e+04      1.000000      0.500000    290.000000  5.200000e+02   \n",
       "25%    3.219500e+05      3.000000      1.750000   1427.000000  5.040000e+03   \n",
       "50%    4.500000e+05      3.000000      2.250000   1910.000000  7.618000e+03   \n",
       "75%    6.450000e+05      4.000000      2.500000   2550.000000  1.068800e+04   \n",
       "max    7.700000e+06     33.000000      8.000000  13540.000000  1.651359e+06   \n",
       "\n",
       "             floors    waterfront          view     condition         grade  \\\n",
       "count  21613.000000  21613.000000  21613.000000  21613.000000  21613.000000   \n",
       "mean       1.494309      0.007542      0.234303      3.409430      7.656873   \n",
       "std        0.539989      0.086517      0.766318      0.650743      1.175459   \n",
       "min        1.000000      0.000000      0.000000      1.000000      1.000000   \n",
       "25%        1.000000      0.000000      0.000000      3.000000      7.000000   \n",
       "50%        1.500000      0.000000      0.000000      3.000000      7.000000   \n",
       "75%        2.000000      0.000000      0.000000      4.000000      8.000000   \n",
       "max        3.500000      1.000000      4.000000      5.000000     13.000000   \n",
       "\n",
       "         sqft_above  sqft_basement      yr_built  yr_renovated       zipcode  \\\n",
       "count  21613.000000   21613.000000  21613.000000  21613.000000  21613.000000   \n",
       "mean    1788.390691     291.509045   1971.005136     84.402258  98077.939805   \n",
       "std      828.090978     442.575043     29.373411    401.679240     53.505026   \n",
       "min      290.000000       0.000000   1900.000000      0.000000  98001.000000   \n",
       "25%     1190.000000       0.000000   1951.000000      0.000000  98033.000000   \n",
       "50%     1560.000000       0.000000   1975.000000      0.000000  98065.000000   \n",
       "75%     2210.000000     560.000000   1997.000000      0.000000  98118.000000   \n",
       "max     9410.000000    4820.000000   2015.000000   2015.000000  98199.000000   \n",
       "\n",
       "                lat          long  sqft_living15     sqft_lot15  \n",
       "count  21613.000000  21613.000000   21613.000000   21613.000000  \n",
       "mean      47.560053   -122.213896    1986.552492   12768.455652  \n",
       "std        0.138564      0.140828     685.391304   27304.179631  \n",
       "min       47.155900   -122.519000     399.000000     651.000000  \n",
       "25%       47.471000   -122.328000    1490.000000    5100.000000  \n",
       "50%       47.571800   -122.230000    1840.000000    7620.000000  \n",
       "75%       47.678000   -122.125000    2360.000000   10083.000000  \n",
       "max       47.777600   -121.315000    6210.000000  871200.000000  "
      ]
     },
     "execution_count": 6,
     "metadata": {},
     "output_type": "execute_result"
    }
   ],
   "source": [
    "# Drop columns \"id\" and \"Unnamed: 0\" from the \"df\" dataframe.\n",
    "df.drop([\"id\", \"Unnamed: 0\"], axis = 1, inplace=True)\n",
    "\n",
    "# Get a statistical summary of the dataset to confirm that the two columns have been dropped. \n",
    "df.describe()"
   ]
  },
  {
   "cell_type": "code",
   "execution_count": 7,
   "metadata": {},
   "outputs": [
    {
     "name": "stdout",
     "output_type": "stream",
     "text": [
      "date\n",
      "False    21613\n",
      "Name: date, dtype: int64\n",
      "\n",
      "price\n",
      "False    21613\n",
      "Name: price, dtype: int64\n",
      "\n",
      "bedrooms\n",
      "False    21600\n",
      "True        13\n",
      "Name: bedrooms, dtype: int64\n",
      "\n",
      "bathrooms\n",
      "False    21603\n",
      "True        10\n",
      "Name: bathrooms, dtype: int64\n",
      "\n",
      "sqft_living\n",
      "False    21613\n",
      "Name: sqft_living, dtype: int64\n",
      "\n",
      "sqft_lot\n",
      "False    21613\n",
      "Name: sqft_lot, dtype: int64\n",
      "\n",
      "floors\n",
      "False    21613\n",
      "Name: floors, dtype: int64\n",
      "\n",
      "waterfront\n",
      "False    21613\n",
      "Name: waterfront, dtype: int64\n",
      "\n",
      "view\n",
      "False    21613\n",
      "Name: view, dtype: int64\n",
      "\n",
      "condition\n",
      "False    21613\n",
      "Name: condition, dtype: int64\n",
      "\n",
      "grade\n",
      "False    21613\n",
      "Name: grade, dtype: int64\n",
      "\n",
      "sqft_above\n",
      "False    21613\n",
      "Name: sqft_above, dtype: int64\n",
      "\n",
      "sqft_basement\n",
      "False    21613\n",
      "Name: sqft_basement, dtype: int64\n",
      "\n",
      "yr_built\n",
      "False    21613\n",
      "Name: yr_built, dtype: int64\n",
      "\n",
      "yr_renovated\n",
      "False    21613\n",
      "Name: yr_renovated, dtype: int64\n",
      "\n",
      "zipcode\n",
      "False    21613\n",
      "Name: zipcode, dtype: int64\n",
      "\n",
      "lat\n",
      "False    21613\n",
      "Name: lat, dtype: int64\n",
      "\n",
      "long\n",
      "False    21613\n",
      "Name: long, dtype: int64\n",
      "\n",
      "sqft_living15\n",
      "False    21613\n",
      "Name: sqft_living15, dtype: int64\n",
      "\n",
      "sqft_lot15\n",
      "False    21613\n",
      "Name: sqft_lot15, dtype: int64\n",
      "\n"
     ]
    }
   ],
   "source": [
    "# Check if any of the columns contains missing values. \n",
    "\n",
    "for column in df.columns.values.tolist():\n",
    "    print(column)\n",
    "    print(df[column].isnull().value_counts())\n",
    "    print(\"\")"
   ]
  },
  {
   "cell_type": "code",
   "execution_count": 8,
   "metadata": {
    "jupyter": {
     "outputs_hidden": false
    }
   },
   "outputs": [
    {
     "name": "stdout",
     "output_type": "stream",
     "text": [
      "number of NaN values for the column bedrooms : 13\n",
      "number of NaN values for the column bathrooms : 10\n"
     ]
    }
   ],
   "source": [
    "# List the information of the two columns that have missing values. \n",
    "\n",
    "print(\"number of NaN values for the column bedrooms :\", df['bedrooms'].isnull().sum())\n",
    "print(\"number of NaN values for the column bathrooms :\", df['bathrooms'].isnull().sum())"
   ]
  },
  {
   "cell_type": "code",
   "execution_count": 9,
   "metadata": {},
   "outputs": [],
   "source": [
    "# Find the mean of the column \"bedrooms.\"\n",
    "mean=df['bedrooms'].mean()\n",
    "\n",
    "# Replace the missing values of the column 'bedrooms' with the mean of this column.\n",
    "# Set the inplace parameter to True to ensure the changes are made in the dataframe.\n",
    "df['bedrooms'].replace(np.nan,mean, inplace=True)"
   ]
  },
  {
   "cell_type": "code",
   "execution_count": 10,
   "metadata": {},
   "outputs": [],
   "source": [
    "# Find the mean of the column \"bathrooms.\"\n",
    "mean=df['bathrooms'].mean()\n",
    "\n",
    "# Replace the missing values of the column 'bathrooms' with the mean of this column. \n",
    "# Set the inplace parameter to True to ensure the changes are made in the dataframe.\n",
    "df['bathrooms'].replace(np.nan,mean, inplace=True)"
   ]
  },
  {
   "cell_type": "code",
   "execution_count": 11,
   "metadata": {
    "jupyter": {
     "outputs_hidden": false
    }
   },
   "outputs": [
    {
     "name": "stdout",
     "output_type": "stream",
     "text": [
      "number of NaN values for the column bedrooms : 0\n",
      "number of NaN values for the column bathrooms : 0\n"
     ]
    }
   ],
   "source": [
    "# Confirm that neither of these columns,'bedrooms' and 'bathrooms' contains missing values now.\n",
    "\n",
    "print(\"number of NaN values for the column bedrooms :\", df['bedrooms'].isnull().sum())\n",
    "print(\"number of NaN values for the column bathrooms :\", df['bathrooms'].isnull().sum())"
   ]
  },
  {
   "cell_type": "markdown",
   "metadata": {},
   "source": [
    "## Summary (Data Wrangling)\n",
    "\n",
    "1. Two columns ,'id' and 'Unnamed: 0', that could interfere with/complicate data analysis later were dropped from the dataframe first.\n",
    "2. Then, a search for columns containing missing values was performed on the dataframe. Two columns, 'bedrooms' and 'bathrooms' were found to have missing values in them. \n",
    "3. The means of these two columns were calculated, and all missing values were replaced with their respective means."
   ]
  },
  {
   "cell_type": "markdown",
   "metadata": {},
   "source": [
    "\n",
    "# 3. Exploratory Data Analysis\n"
   ]
  },
  {
   "cell_type": "markdown",
   "metadata": {},
   "source": [
    "## Introduction\n",
    "\n",
    "In this section, first, a correlation analysis with respect to 'price' (the target variable) is undertaken to determine how much each feature of a home correlates with 'price'. Then, a correlation analysis of the entire dataset was performed to view pairwise correlations between pairs of features. A heatmap of this analysis is created to help visualize the number of moderate to strong pairwise correlations. This gives clues about multicollinearity of features contained in this dataset. Along with the correlation analyses, regplots of selective features are created to view the relationship between features. In addition, a boxplot is made to compare the price of homes with or without a waterfront view, the only feature having binary values (0 = does not have a waterfront view and 1 = has a waterfront view). Finally, to learn what types of homes are more common in this area, each type of homes are counted based on the total number of floors they have. "
   ]
  },
  {
   "cell_type": "markdown",
   "metadata": {},
   "source": [
    "## Correlation Analysis with respect to the target variable 'price'"
   ]
  },
  {
   "cell_type": "code",
   "execution_count": 12,
   "metadata": {
    "jupyter": {
     "outputs_hidden": false
    },
    "scrolled": true
   },
   "outputs": [
    {
     "data": {
      "text/plain": [
       "price            1.000\n",
       "sqft_living      0.702\n",
       "grade            0.667\n",
       "sqft_above       0.606\n",
       "sqft_living15    0.585\n",
       "bathrooms        0.526\n",
       "view             0.397\n",
       "sqft_basement    0.324\n",
       "bedrooms         0.309\n",
       "lat              0.307\n",
       "waterfront       0.266\n",
       "floors           0.257\n",
       "yr_renovated     0.126\n",
       "sqft_lot         0.090\n",
       "sqft_lot15       0.082\n",
       "yr_built         0.054\n",
       "condition        0.036\n",
       "long             0.022\n",
       "zipcode         -0.053\n",
       "Name: price, dtype: float64"
      ]
     },
     "execution_count": 12,
     "metadata": {},
     "output_type": "execute_result"
    }
   ],
   "source": [
    "# Determine the correlation bewteen a feature of the house and 'price' using the corr() method in Pandas.\n",
    "# Sort the correlation coefficents in descending order. \n",
    "\n",
    "df.corr()['price'].round(3).sort_values(ascending = False)"
   ]
  },
  {
   "cell_type": "code",
   "execution_count": 13,
   "metadata": {},
   "outputs": [
    {
     "data": {
      "text/plain": [
       "Text(0.5, 1.0, 'price vs. sqft_living')"
      ]
     },
     "execution_count": 13,
     "metadata": {},
     "output_type": "execute_result"
    },
    {
     "data": {
      "image/png": "[encoded data removed]",
      "text/plain": [
       "<Figure size 648x432 with 1 Axes>"
      ]
     },
     "metadata": {
      "needs_background": "light"
     },
     "output_type": "display_data"
    }
   ],
   "source": [
    "# Visualize the relationship between 'sqft_living' (the most correlated feature) and 'price.'\n",
    "plt.figure(figsize = (9,6))\n",
    "sns.regplot(x = 'sqft_living', y = 'price', data = df)\n",
    "plt.ylim(0,)\n",
    "plt.title('price vs. sqft_living')"
   ]
  },
  {
   "cell_type": "markdown",
   "metadata": {},
   "source": [
    "## Correlation Analysis (Pairwise Correlation)"
   ]
  },
  {
   "cell_type": "code",
   "execution_count": 14,
   "metadata": {},
   "outputs": [
    {
     "data": {
      "text/html": [
       "<div>\n",
       "<style scoped>\n",
       "    .dataframe tbody tr th:only-of-type {\n",
       "        vertical-align: middle;\n",
       "    }\n",
       "\n",
       "    .dataframe tbody tr th {\n",
       "        vertical-align: top;\n",
       "    }\n",
       "\n",
       "    .dataframe thead th {\n",
       "        text-align: right;\n",
       "    }\n",
       "</style>\n",
       "<table border=\"1\" class=\"dataframe\">\n",
       "  <thead>\n",
       "    <tr style=\"text-align: right;\">\n",
       "      <th></th>\n",
       "      <th>price</th>\n",
       "      <th>bedrooms</th>\n",
       "      <th>bathrooms</th>\n",
       "      <th>sqft_living</th>\n",
       "      <th>sqft_lot</th>\n",
       "      <th>floors</th>\n",
       "      <th>waterfront</th>\n",
       "      <th>view</th>\n",
       "      <th>condition</th>\n",
       "      <th>grade</th>\n",
       "      <th>sqft_above</th>\n",
       "      <th>sqft_basement</th>\n",
       "      <th>yr_built</th>\n",
       "      <th>yr_renovated</th>\n",
       "      <th>zipcode</th>\n",
       "      <th>lat</th>\n",
       "      <th>long</th>\n",
       "      <th>sqft_living15</th>\n",
       "      <th>sqft_lot15</th>\n",
       "    </tr>\n",
       "  </thead>\n",
       "  <tbody>\n",
       "    <tr>\n",
       "      <th>price</th>\n",
       "      <td>1.000</td>\n",
       "      <td>0.309</td>\n",
       "      <td>0.526</td>\n",
       "      <td>0.702</td>\n",
       "      <td>0.090</td>\n",
       "      <td>0.257</td>\n",
       "      <td>0.266</td>\n",
       "      <td>0.397</td>\n",
       "      <td>0.036</td>\n",
       "      <td>0.667</td>\n",
       "      <td>0.606</td>\n",
       "      <td>0.324</td>\n",
       "      <td>0.054</td>\n",
       "      <td>0.126</td>\n",
       "      <td>-0.053</td>\n",
       "      <td>0.307</td>\n",
       "      <td>0.022</td>\n",
       "      <td>0.585</td>\n",
       "      <td>0.082</td>\n",
       "    </tr>\n",
       "    <tr>\n",
       "      <th>bedrooms</th>\n",
       "      <td>0.309</td>\n",
       "      <td>1.000</td>\n",
       "      <td>0.514</td>\n",
       "      <td>0.578</td>\n",
       "      <td>0.032</td>\n",
       "      <td>0.178</td>\n",
       "      <td>-0.007</td>\n",
       "      <td>0.080</td>\n",
       "      <td>0.027</td>\n",
       "      <td>0.357</td>\n",
       "      <td>0.479</td>\n",
       "      <td>0.303</td>\n",
       "      <td>0.156</td>\n",
       "      <td>0.018</td>\n",
       "      <td>-0.154</td>\n",
       "      <td>-0.010</td>\n",
       "      <td>0.131</td>\n",
       "      <td>0.393</td>\n",
       "      <td>0.030</td>\n",
       "    </tr>\n",
       "    <tr>\n",
       "      <th>bathrooms</th>\n",
       "      <td>0.526</td>\n",
       "      <td>0.514</td>\n",
       "      <td>1.000</td>\n",
       "      <td>0.755</td>\n",
       "      <td>0.088</td>\n",
       "      <td>0.502</td>\n",
       "      <td>0.064</td>\n",
       "      <td>0.188</td>\n",
       "      <td>-0.126</td>\n",
       "      <td>0.665</td>\n",
       "      <td>0.686</td>\n",
       "      <td>0.283</td>\n",
       "      <td>0.507</td>\n",
       "      <td>0.051</td>\n",
       "      <td>-0.205</td>\n",
       "      <td>0.024</td>\n",
       "      <td>0.225</td>\n",
       "      <td>0.569</td>\n",
       "      <td>0.088</td>\n",
       "    </tr>\n",
       "    <tr>\n",
       "      <th>sqft_living</th>\n",
       "      <td>0.702</td>\n",
       "      <td>0.578</td>\n",
       "      <td>0.755</td>\n",
       "      <td>1.000</td>\n",
       "      <td>0.173</td>\n",
       "      <td>0.354</td>\n",
       "      <td>0.104</td>\n",
       "      <td>0.285</td>\n",
       "      <td>-0.059</td>\n",
       "      <td>0.763</td>\n",
       "      <td>0.877</td>\n",
       "      <td>0.435</td>\n",
       "      <td>0.318</td>\n",
       "      <td>0.055</td>\n",
       "      <td>-0.199</td>\n",
       "      <td>0.053</td>\n",
       "      <td>0.240</td>\n",
       "      <td>0.756</td>\n",
       "      <td>0.183</td>\n",
       "    </tr>\n",
       "    <tr>\n",
       "      <th>sqft_lot</th>\n",
       "      <td>0.090</td>\n",
       "      <td>0.032</td>\n",
       "      <td>0.088</td>\n",
       "      <td>0.173</td>\n",
       "      <td>1.000</td>\n",
       "      <td>-0.005</td>\n",
       "      <td>0.022</td>\n",
       "      <td>0.075</td>\n",
       "      <td>-0.009</td>\n",
       "      <td>0.114</td>\n",
       "      <td>0.184</td>\n",
       "      <td>0.015</td>\n",
       "      <td>0.053</td>\n",
       "      <td>0.008</td>\n",
       "      <td>-0.130</td>\n",
       "      <td>-0.086</td>\n",
       "      <td>0.230</td>\n",
       "      <td>0.145</td>\n",
       "      <td>0.719</td>\n",
       "    </tr>\n",
       "    <tr>\n",
       "      <th>floors</th>\n",
       "      <td>0.257</td>\n",
       "      <td>0.178</td>\n",
       "      <td>0.502</td>\n",
       "      <td>0.354</td>\n",
       "      <td>-0.005</td>\n",
       "      <td>1.000</td>\n",
       "      <td>0.024</td>\n",
       "      <td>0.029</td>\n",
       "      <td>-0.264</td>\n",
       "      <td>0.458</td>\n",
       "      <td>0.524</td>\n",
       "      <td>-0.246</td>\n",
       "      <td>0.489</td>\n",
       "      <td>0.006</td>\n",
       "      <td>-0.059</td>\n",
       "      <td>0.050</td>\n",
       "      <td>0.125</td>\n",
       "      <td>0.280</td>\n",
       "      <td>-0.011</td>\n",
       "    </tr>\n",
       "    <tr>\n",
       "      <th>waterfront</th>\n",
       "      <td>0.266</td>\n",
       "      <td>-0.007</td>\n",
       "      <td>0.064</td>\n",
       "      <td>0.104</td>\n",
       "      <td>0.022</td>\n",
       "      <td>0.024</td>\n",
       "      <td>1.000</td>\n",
       "      <td>0.402</td>\n",
       "      <td>0.017</td>\n",
       "      <td>0.083</td>\n",
       "      <td>0.072</td>\n",
       "      <td>0.081</td>\n",
       "      <td>-0.026</td>\n",
       "      <td>0.093</td>\n",
       "      <td>0.030</td>\n",
       "      <td>-0.014</td>\n",
       "      <td>-0.042</td>\n",
       "      <td>0.086</td>\n",
       "      <td>0.031</td>\n",
       "    </tr>\n",
       "    <tr>\n",
       "      <th>view</th>\n",
       "      <td>0.397</td>\n",
       "      <td>0.080</td>\n",
       "      <td>0.188</td>\n",
       "      <td>0.285</td>\n",
       "      <td>0.075</td>\n",
       "      <td>0.029</td>\n",
       "      <td>0.402</td>\n",
       "      <td>1.000</td>\n",
       "      <td>0.046</td>\n",
       "      <td>0.251</td>\n",
       "      <td>0.168</td>\n",
       "      <td>0.277</td>\n",
       "      <td>-0.053</td>\n",
       "      <td>0.104</td>\n",
       "      <td>0.085</td>\n",
       "      <td>0.006</td>\n",
       "      <td>-0.078</td>\n",
       "      <td>0.280</td>\n",
       "      <td>0.073</td>\n",
       "    </tr>\n",
       "    <tr>\n",
       "      <th>condition</th>\n",
       "      <td>0.036</td>\n",
       "      <td>0.027</td>\n",
       "      <td>-0.126</td>\n",
       "      <td>-0.059</td>\n",
       "      <td>-0.009</td>\n",
       "      <td>-0.264</td>\n",
       "      <td>0.017</td>\n",
       "      <td>0.046</td>\n",
       "      <td>1.000</td>\n",
       "      <td>-0.145</td>\n",
       "      <td>-0.158</td>\n",
       "      <td>0.174</td>\n",
       "      <td>-0.361</td>\n",
       "      <td>-0.061</td>\n",
       "      <td>0.003</td>\n",
       "      <td>-0.015</td>\n",
       "      <td>-0.107</td>\n",
       "      <td>-0.093</td>\n",
       "      <td>-0.003</td>\n",
       "    </tr>\n",
       "    <tr>\n",
       "      <th>grade</th>\n",
       "      <td>0.667</td>\n",
       "      <td>0.357</td>\n",
       "      <td>0.665</td>\n",
       "      <td>0.763</td>\n",
       "      <td>0.114</td>\n",
       "      <td>0.458</td>\n",
       "      <td>0.083</td>\n",
       "      <td>0.251</td>\n",
       "      <td>-0.145</td>\n",
       "      <td>1.000</td>\n",
       "      <td>0.756</td>\n",
       "      <td>0.168</td>\n",
       "      <td>0.447</td>\n",
       "      <td>0.014</td>\n",
       "      <td>-0.185</td>\n",
       "      <td>0.114</td>\n",
       "      <td>0.198</td>\n",
       "      <td>0.713</td>\n",
       "      <td>0.119</td>\n",
       "    </tr>\n",
       "    <tr>\n",
       "      <th>sqft_above</th>\n",
       "      <td>0.606</td>\n",
       "      <td>0.479</td>\n",
       "      <td>0.686</td>\n",
       "      <td>0.877</td>\n",
       "      <td>0.184</td>\n",
       "      <td>0.524</td>\n",
       "      <td>0.072</td>\n",
       "      <td>0.168</td>\n",
       "      <td>-0.158</td>\n",
       "      <td>0.756</td>\n",
       "      <td>1.000</td>\n",
       "      <td>-0.052</td>\n",
       "      <td>0.424</td>\n",
       "      <td>0.023</td>\n",
       "      <td>-0.261</td>\n",
       "      <td>-0.001</td>\n",
       "      <td>0.344</td>\n",
       "      <td>0.732</td>\n",
       "      <td>0.194</td>\n",
       "    </tr>\n",
       "    <tr>\n",
       "      <th>sqft_basement</th>\n",
       "      <td>0.324</td>\n",
       "      <td>0.303</td>\n",
       "      <td>0.283</td>\n",
       "      <td>0.435</td>\n",
       "      <td>0.015</td>\n",
       "      <td>-0.246</td>\n",
       "      <td>0.081</td>\n",
       "      <td>0.277</td>\n",
       "      <td>0.174</td>\n",
       "      <td>0.168</td>\n",
       "      <td>-0.052</td>\n",
       "      <td>1.000</td>\n",
       "      <td>-0.133</td>\n",
       "      <td>0.071</td>\n",
       "      <td>0.075</td>\n",
       "      <td>0.111</td>\n",
       "      <td>-0.145</td>\n",
       "      <td>0.200</td>\n",
       "      <td>0.017</td>\n",
       "    </tr>\n",
       "    <tr>\n",
       "      <th>yr_built</th>\n",
       "      <td>0.054</td>\n",
       "      <td>0.156</td>\n",
       "      <td>0.507</td>\n",
       "      <td>0.318</td>\n",
       "      <td>0.053</td>\n",
       "      <td>0.489</td>\n",
       "      <td>-0.026</td>\n",
       "      <td>-0.053</td>\n",
       "      <td>-0.361</td>\n",
       "      <td>0.447</td>\n",
       "      <td>0.424</td>\n",
       "      <td>-0.133</td>\n",
       "      <td>1.000</td>\n",
       "      <td>-0.225</td>\n",
       "      <td>-0.347</td>\n",
       "      <td>-0.148</td>\n",
       "      <td>0.409</td>\n",
       "      <td>0.326</td>\n",
       "      <td>0.071</td>\n",
       "    </tr>\n",
       "    <tr>\n",
       "      <th>yr_renovated</th>\n",
       "      <td>0.126</td>\n",
       "      <td>0.018</td>\n",
       "      <td>0.051</td>\n",
       "      <td>0.055</td>\n",
       "      <td>0.008</td>\n",
       "      <td>0.006</td>\n",
       "      <td>0.093</td>\n",
       "      <td>0.104</td>\n",
       "      <td>-0.061</td>\n",
       "      <td>0.014</td>\n",
       "      <td>0.023</td>\n",
       "      <td>0.071</td>\n",
       "      <td>-0.225</td>\n",
       "      <td>1.000</td>\n",
       "      <td>0.064</td>\n",
       "      <td>0.029</td>\n",
       "      <td>-0.068</td>\n",
       "      <td>-0.003</td>\n",
       "      <td>0.008</td>\n",
       "    </tr>\n",
       "    <tr>\n",
       "      <th>zipcode</th>\n",
       "      <td>-0.053</td>\n",
       "      <td>-0.154</td>\n",
       "      <td>-0.205</td>\n",
       "      <td>-0.199</td>\n",
       "      <td>-0.130</td>\n",
       "      <td>-0.059</td>\n",
       "      <td>0.030</td>\n",
       "      <td>0.085</td>\n",
       "      <td>0.003</td>\n",
       "      <td>-0.185</td>\n",
       "      <td>-0.261</td>\n",
       "      <td>0.075</td>\n",
       "      <td>-0.347</td>\n",
       "      <td>0.064</td>\n",
       "      <td>1.000</td>\n",
       "      <td>0.267</td>\n",
       "      <td>-0.564</td>\n",
       "      <td>-0.279</td>\n",
       "      <td>-0.147</td>\n",
       "    </tr>\n",
       "    <tr>\n",
       "      <th>lat</th>\n",
       "      <td>0.307</td>\n",
       "      <td>-0.010</td>\n",
       "      <td>0.024</td>\n",
       "      <td>0.053</td>\n",
       "      <td>-0.086</td>\n",
       "      <td>0.050</td>\n",
       "      <td>-0.014</td>\n",
       "      <td>0.006</td>\n",
       "      <td>-0.015</td>\n",
       "      <td>0.114</td>\n",
       "      <td>-0.001</td>\n",
       "      <td>0.111</td>\n",
       "      <td>-0.148</td>\n",
       "      <td>0.029</td>\n",
       "      <td>0.267</td>\n",
       "      <td>1.000</td>\n",
       "      <td>-0.136</td>\n",
       "      <td>0.049</td>\n",
       "      <td>-0.086</td>\n",
       "    </tr>\n",
       "    <tr>\n",
       "      <th>long</th>\n",
       "      <td>0.022</td>\n",
       "      <td>0.131</td>\n",
       "      <td>0.225</td>\n",
       "      <td>0.240</td>\n",
       "      <td>0.230</td>\n",
       "      <td>0.125</td>\n",
       "      <td>-0.042</td>\n",
       "      <td>-0.078</td>\n",
       "      <td>-0.107</td>\n",
       "      <td>0.198</td>\n",
       "      <td>0.344</td>\n",
       "      <td>-0.145</td>\n",
       "      <td>0.409</td>\n",
       "      <td>-0.068</td>\n",
       "      <td>-0.564</td>\n",
       "      <td>-0.136</td>\n",
       "      <td>1.000</td>\n",
       "      <td>0.335</td>\n",
       "      <td>0.254</td>\n",
       "    </tr>\n",
       "    <tr>\n",
       "      <th>sqft_living15</th>\n",
       "      <td>0.585</td>\n",
       "      <td>0.393</td>\n",
       "      <td>0.569</td>\n",
       "      <td>0.756</td>\n",
       "      <td>0.145</td>\n",
       "      <td>0.280</td>\n",
       "      <td>0.086</td>\n",
       "      <td>0.280</td>\n",
       "      <td>-0.093</td>\n",
       "      <td>0.713</td>\n",
       "      <td>0.732</td>\n",
       "      <td>0.200</td>\n",
       "      <td>0.326</td>\n",
       "      <td>-0.003</td>\n",
       "      <td>-0.279</td>\n",
       "      <td>0.049</td>\n",
       "      <td>0.335</td>\n",
       "      <td>1.000</td>\n",
       "      <td>0.183</td>\n",
       "    </tr>\n",
       "    <tr>\n",
       "      <th>sqft_lot15</th>\n",
       "      <td>0.082</td>\n",
       "      <td>0.030</td>\n",
       "      <td>0.088</td>\n",
       "      <td>0.183</td>\n",
       "      <td>0.719</td>\n",
       "      <td>-0.011</td>\n",
       "      <td>0.031</td>\n",
       "      <td>0.073</td>\n",
       "      <td>-0.003</td>\n",
       "      <td>0.119</td>\n",
       "      <td>0.194</td>\n",
       "      <td>0.017</td>\n",
       "      <td>0.071</td>\n",
       "      <td>0.008</td>\n",
       "      <td>-0.147</td>\n",
       "      <td>-0.086</td>\n",
       "      <td>0.254</td>\n",
       "      <td>0.183</td>\n",
       "      <td>1.000</td>\n",
       "    </tr>\n",
       "  </tbody>\n",
       "</table>\n",
       "</div>"
      ],
      "text/plain": [
       "               price  bedrooms  bathrooms  sqft_living  sqft_lot  floors  \\\n",
       "price          1.000     0.309      0.526        0.702     0.090   0.257   \n",
       "bedrooms       0.309     1.000      0.514        0.578     0.032   0.178   \n",
       "bathrooms      0.526     0.514      1.000        0.755     0.088   0.502   \n",
       "sqft_living    0.702     0.578      0.755        1.000     0.173   0.354   \n",
       "sqft_lot       0.090     0.032      0.088        0.173     1.000  -0.005   \n",
       "floors         0.257     0.178      0.502        0.354    -0.005   1.000   \n",
       "waterfront     0.266    -0.007      0.064        0.104     0.022   0.024   \n",
       "view           0.397     0.080      0.188        0.285     0.075   0.029   \n",
       "condition      0.036     0.027     -0.126       -0.059    -0.009  -0.264   \n",
       "grade          0.667     0.357      0.665        0.763     0.114   0.458   \n",
       "sqft_above     0.606     0.479      0.686        0.877     0.184   0.524   \n",
       "sqft_basement  0.324     0.303      0.283        0.435     0.015  -0.246   \n",
       "yr_built       0.054     0.156      0.507        0.318     0.053   0.489   \n",
       "yr_renovated   0.126     0.018      0.051        0.055     0.008   0.006   \n",
       "zipcode       -0.053    -0.154     -0.205       -0.199    -0.130  -0.059   \n",
       "lat            0.307    -0.010      0.024        0.053    -0.086   0.050   \n",
       "long           0.022     0.131      0.225        0.240     0.230   0.125   \n",
       "sqft_living15  0.585     0.393      0.569        0.756     0.145   0.280   \n",
       "sqft_lot15     0.082     0.030      0.088        0.183     0.719  -0.011   \n",
       "\n",
       "               waterfront   view  condition  grade  sqft_above  sqft_basement  \\\n",
       "price               0.266  0.397      0.036  0.667       0.606          0.324   \n",
       "bedrooms           -0.007  0.080      0.027  0.357       0.479          0.303   \n",
       "bathrooms           0.064  0.188     -0.126  0.665       0.686          0.283   \n",
       "sqft_living         0.104  0.285     -0.059  0.763       0.877          0.435   \n",
       "sqft_lot            0.022  0.075     -0.009  0.114       0.184          0.015   \n",
       "floors              0.024  0.029     -0.264  0.458       0.524         -0.246   \n",
       "waterfront          1.000  0.402      0.017  0.083       0.072          0.081   \n",
       "view                0.402  1.000      0.046  0.251       0.168          0.277   \n",
       "condition           0.017  0.046      1.000 -0.145      -0.158          0.174   \n",
       "grade               0.083  0.251     -0.145  1.000       0.756          0.168   \n",
       "sqft_above          0.072  0.168     -0.158  0.756       1.000         -0.052   \n",
       "sqft_basement       0.081  0.277      0.174  0.168      -0.052          1.000   \n",
       "yr_built           -0.026 -0.053     -0.361  0.447       0.424         -0.133   \n",
       "yr_renovated        0.093  0.104     -0.061  0.014       0.023          0.071   \n",
       "zipcode             0.030  0.085      0.003 -0.185      -0.261          0.075   \n",
       "lat                -0.014  0.006     -0.015  0.114      -0.001          0.111   \n",
       "long               -0.042 -0.078     -0.107  0.198       0.344         -0.145   \n",
       "sqft_living15       0.086  0.280     -0.093  0.713       0.732          0.200   \n",
       "sqft_lot15          0.031  0.073     -0.003  0.119       0.194          0.017   \n",
       "\n",
       "               yr_built  yr_renovated  zipcode    lat   long  sqft_living15  \\\n",
       "price             0.054         0.126   -0.053  0.307  0.022          0.585   \n",
       "bedrooms          0.156         0.018   -0.154 -0.010  0.131          0.393   \n",
       "bathrooms         0.507         0.051   -0.205  0.024  0.225          0.569   \n",
       "sqft_living       0.318         0.055   -0.199  0.053  0.240          0.756   \n",
       "sqft_lot          0.053         0.008   -0.130 -0.086  0.230          0.145   \n",
       "floors            0.489         0.006   -0.059  0.050  0.125          0.280   \n",
       "waterfront       -0.026         0.093    0.030 -0.014 -0.042          0.086   \n",
       "view             -0.053         0.104    0.085  0.006 -0.078          0.280   \n",
       "condition        -0.361        -0.061    0.003 -0.015 -0.107         -0.093   \n",
       "grade             0.447         0.014   -0.185  0.114  0.198          0.713   \n",
       "sqft_above        0.424         0.023   -0.261 -0.001  0.344          0.732   \n",
       "sqft_basement    -0.133         0.071    0.075  0.111 -0.145          0.200   \n",
       "yr_built          1.000        -0.225   -0.347 -0.148  0.409          0.326   \n",
       "yr_renovated     -0.225         1.000    0.064  0.029 -0.068         -0.003   \n",
       "zipcode          -0.347         0.064    1.000  0.267 -0.564         -0.279   \n",
       "lat              -0.148         0.029    0.267  1.000 -0.136          0.049   \n",
       "long              0.409        -0.068   -0.564 -0.136  1.000          0.335   \n",
       "sqft_living15     0.326        -0.003   -0.279  0.049  0.335          1.000   \n",
       "sqft_lot15        0.071         0.008   -0.147 -0.086  0.254          0.183   \n",
       "\n",
       "               sqft_lot15  \n",
       "price               0.082  \n",
       "bedrooms            0.030  \n",
       "bathrooms           0.088  \n",
       "sqft_living         0.183  \n",
       "sqft_lot            0.719  \n",
       "floors             -0.011  \n",
       "waterfront          0.031  \n",
       "view                0.073  \n",
       "condition          -0.003  \n",
       "grade               0.119  \n",
       "sqft_above          0.194  \n",
       "sqft_basement       0.017  \n",
       "yr_built            0.071  \n",
       "yr_renovated        0.008  \n",
       "zipcode            -0.147  \n",
       "lat                -0.086  \n",
       "long                0.254  \n",
       "sqft_living15       0.183  \n",
       "sqft_lot15          1.000  "
      ]
     },
     "execution_count": 14,
     "metadata": {},
     "output_type": "execute_result"
    }
   ],
   "source": [
    "# Run a correlation analysis on all features to view pairwise correlation. \n",
    "\n",
    "df.corr().round(3)"
   ]
  },
  {
   "cell_type": "code",
   "execution_count": 15,
   "metadata": {},
   "outputs": [
    {
     "data": {
      "text/plain": [
       "<AxesSubplot:>"
      ]
     },
     "execution_count": 15,
     "metadata": {},
     "output_type": "execute_result"
    },
    {
     "data": {
      "image/png": "[encoded data removed]",
      "text/plain": [
       "<Figure size 720x504 with 2 Axes>"
      ]
     },
     "metadata": {
      "needs_background": "light"
     },
     "output_type": "display_data"
    }
   ],
   "source": [
    "# Create a heatmap to spot moderate to strong correlations between pairs of features. \n",
    "corr_matrix = df.corr()\n",
    "plt.figure(figsize = (10,7))\n",
    "sns.heatmap(data= corr_matrix)"
   ]
  },
  {
   "cell_type": "markdown",
   "metadata": {},
   "source": [
    "## Multicollinearity \n",
    "\n",
    "Since features in many pairwise correlations moderately or strongly correlate with one another (correlation coefficient > 0.5), when these features are used in fitting models, multicollinearity could affect the performance of the models. To give an example of the strength of these pairwise correlations, a correlation analysis with respect to 'sqft_living' is performed below. This feature is chosen because it is the feature correlating with 'price' the most, and thus, will definitely be used to fit models later on. "
   ]
  },
  {
   "cell_type": "markdown",
   "metadata": {},
   "source": [
    "### Correlation Analysis with respect to 'sqft_living' (the feature correlating with 'price' the most)"
   ]
  },
  {
   "cell_type": "code",
   "execution_count": 16,
   "metadata": {},
   "outputs": [
    {
     "data": {
      "text/plain": [
       "sqft_living      1.000\n",
       "sqft_above       0.877\n",
       "grade            0.763\n",
       "sqft_living15    0.756\n",
       "bathrooms        0.755\n",
       "price            0.702\n",
       "bedrooms         0.578\n",
       "sqft_basement    0.435\n",
       "floors           0.354\n",
       "yr_built         0.318\n",
       "view             0.285\n",
       "long             0.240\n",
       "sqft_lot15       0.183\n",
       "sqft_lot         0.173\n",
       "waterfront       0.104\n",
       "yr_renovated     0.055\n",
       "lat              0.053\n",
       "condition       -0.059\n",
       "zipcode         -0.199\n",
       "Name: sqft_living, dtype: float64"
      ]
     },
     "execution_count": 16,
     "metadata": {},
     "output_type": "execute_result"
    }
   ],
   "source": [
    "# Run a correlation analysis with respect to 'sqft_living', the feature correlating with 'price' the most,\n",
    "# to learn how it correlates with other features.\n",
    "\n",
    "df.corr()['sqft_living'].round(3).sort_values(ascending = False)"
   ]
  },
  {
   "cell_type": "code",
   "execution_count": 17,
   "metadata": {},
   "outputs": [
    {
     "data": {
      "text/plain": [
       "Text(0.5, 1.0, 'sqft_living vs. sqft_above')"
      ]
     },
     "execution_count": 17,
     "metadata": {},
     "output_type": "execute_result"
    },
    {
     "data": {
      "image/png": "[encoded data removed]",
      "text/plain": [
       "<Figure size 648x432 with 1 Axes>"
      ]
     },
     "metadata": {
      "needs_background": "light"
     },
     "output_type": "display_data"
    }
   ],
   "source": [
    "# Visualize the relationship between 'sqft_living' and 'sqft_above', because 'sqft_above' correlates with 'sqft_living' \n",
    "# the most.  \n",
    "\n",
    "plt.figure(figsize = (9,6))\n",
    "sns.regplot(x = 'sqft_above', y = 'sqft_living', data = df)\n",
    "plt.ylim(0,)\n",
    "plt.title('sqft_living vs. sqft_above')"
   ]
  },
  {
   "cell_type": "markdown",
   "metadata": {},
   "source": [
    "## More Data Analyses on 'waterfront' and 'floors'"
   ]
  },
  {
   "cell_type": "code",
   "execution_count": 18,
   "metadata": {
    "jupyter": {
     "outputs_hidden": false
    }
   },
   "outputs": [
    {
     "data": {
      "text/plain": [
       "Text(0.5, 1.0, 'price vs. waterfront')"
      ]
     },
     "execution_count": 18,
     "metadata": {},
     "output_type": "execute_result"
    },
    {
     "data": {
      "image/png": "[encoded data removed]",
      "text/plain": [
       "<Figure size 648x432 with 1 Axes>"
      ]
     },
     "metadata": {
      "needs_background": "light"
     },
     "output_type": "display_data"
    }
   ],
   "source": [
    "# Use boxplot to visualize the range, mean, and outliers of the prices of houses that have a waterfront view ('1')...\n",
    "# versus those that don't have a waterfront view ('0'). \n",
    "\n",
    "plt.figure(figsize = (9,6))\n",
    "sns.boxplot(x=\"waterfront\", y=\"price\", data=df)\n",
    "plt.title('price vs. waterfront')"
   ]
  },
  {
   "cell_type": "code",
   "execution_count": 19,
   "metadata": {
    "jupyter": {
     "outputs_hidden": false
    }
   },
   "outputs": [
    {
     "data": {
      "text/html": [
       "<div>\n",
       "<style scoped>\n",
       "    .dataframe tbody tr th:only-of-type {\n",
       "        vertical-align: middle;\n",
       "    }\n",
       "\n",
       "    .dataframe tbody tr th {\n",
       "        vertical-align: top;\n",
       "    }\n",
       "\n",
       "    .dataframe thead th {\n",
       "        text-align: right;\n",
       "    }\n",
       "</style>\n",
       "<table border=\"1\" class=\"dataframe\">\n",
       "  <thead>\n",
       "    <tr style=\"text-align: right;\">\n",
       "      <th></th>\n",
       "      <th>value_counts</th>\n",
       "    </tr>\n",
       "    <tr>\n",
       "      <th>floors</th>\n",
       "      <th></th>\n",
       "    </tr>\n",
       "  </thead>\n",
       "  <tbody>\n",
       "    <tr>\n",
       "      <th>1.0</th>\n",
       "      <td>10680</td>\n",
       "    </tr>\n",
       "    <tr>\n",
       "      <th>2.0</th>\n",
       "      <td>8241</td>\n",
       "    </tr>\n",
       "    <tr>\n",
       "      <th>1.5</th>\n",
       "      <td>1910</td>\n",
       "    </tr>\n",
       "    <tr>\n",
       "      <th>3.0</th>\n",
       "      <td>613</td>\n",
       "    </tr>\n",
       "    <tr>\n",
       "      <th>2.5</th>\n",
       "      <td>161</td>\n",
       "    </tr>\n",
       "    <tr>\n",
       "      <th>3.5</th>\n",
       "      <td>8</td>\n",
       "    </tr>\n",
       "  </tbody>\n",
       "</table>\n",
       "</div>"
      ],
      "text/plain": [
       "        value_counts\n",
       "floors              \n",
       "1.0            10680\n",
       "2.0             8241\n",
       "1.5             1910\n",
       "3.0              613\n",
       "2.5              161\n",
       "3.5                8"
      ]
     },
     "execution_count": 19,
     "metadata": {},
     "output_type": "execute_result"
    }
   ],
   "source": [
    "# Count the number of houses with unique floor values.\n",
    "floors_counts = df['floors'].value_counts().to_frame()\n",
    "\n",
    "# Making the output dataframe, floors_counts, more readable by giving the columns more descriptive names. \n",
    "# Rename the column 'floor' to value_counts.\n",
    "floors_counts.rename(columns = {'floors':'value_counts'}, inplace = True)\n",
    "\n",
    "# Name the index column'floors'. \n",
    "floors_counts.index.name = 'floors'\n",
    "\n",
    "# Display the dataframe, floors_counts\n",
    "floors_counts"
   ]
  },
  {
   "cell_type": "markdown",
   "metadata": {},
   "source": [
    "## Summary (Exploratory Data Analysis)\n",
    "\n",
    "1. From the correlation analysis with respect to the target variable 'price,' eleven features correlate with 'price' ( correlation coefficients > 0.25). The feature 'sqft_living' is the feature correlated with 'price' the most.\n",
    "2. The regplot of 'price' vs. 'sqft_living' exhibits an \"approximately\" linear relationship between them with many data points scattering far above or far below the regression line. This is not surprising because in spite of being the most correlated feature with 'price', 'sqft_living' only has a correlation coefficient of 0.70, a moderate correlation.\n",
    "3. The heatmap of the correlation analysis with regard to 'price' shows quite a few strong to moderate pairwise correlations.\n",
    "4. The correlation analysis with respect to the feature 'sqft_living' reveals that this feature has strong pairwise correlations with four other features (correlation coefficients > 0.75). This means that problems encountered when fitting models due to multicollinearity need to be corrected when refining the models. \n",
    "5. One of the strong pairwise correlation is between 'sqft_living' and 'sqft_above.' The correlation coefficient is high, 0.876. The regplot of 'sqft_living' vs. 'sqft_above' displays a roughly linear relationship between them. Strong pairwise correlations like this further support the need for addressing the issues relating to multicollinearity when these features are used to fit models. \n",
    "6. The boxplot of 'waterfront' shows that on average, homes with a waterfront view are sold at a higher price than those without a waterfront view. In addition, homes with a waterfront view has a wider price range than those without a waterfront view. This might be because additional features that help lift the price of homes with a waterfront view could vary wildly. \n",
    "7. The value counts of homes by their total number of floors disclose that homes in this area are mostly one-story and two-story homes. "
   ]
  },
  {
   "cell_type": "markdown",
   "metadata": {},
   "source": [
    "\n",
    "# 4. Model Development\n"
   ]
  },
  {
   "cell_type": "markdown",
   "metadata": {},
   "source": [
    " ## Introduction\n",
    " \n",
    "In this section, first, two Simple Linear Regression Models (SLR Models) are developed for comparison, one fitted with 'long' and the other fitted with 'sqft_living,' respectively. The feature 'long' does not correlate with 'price because its correlation coefficient = 0.022 is too low to have a relationship with 'price.' A correlation coefficient < 0.25 means no relationship between the two features. In contrast, the feature 'sqft_living' has the highest correlation coefficient (0.702) of all features with 'price,' but its relationship with 'price' is only moderate (because correlation coefficient < 0.75). In addition a residual plot of 'price' versus 'sqft_living' is made, and it shows a curvilinear relationship between the two, rather than a linear relationship. The discovery of curvilinear relationship between 'sqft_living' and 'price' means that a Polynomial Regression Model (PR Model) of 'sqft_living' is a better model than the linear model. So, a Polynomial Regression Model of 'sqft_living' is created. This marks the end of one-feature models. Next, all eleven features that have either a weak or moderate relationship with 'price, are used to fit more models. These features have correlation coefficients > 0.25. First, a Multiple Linear Regression Model (MLR Model) is fitted with these features. Next, considering that multicollinearity exists among these features (see the Exploratory Data Analysis section), some of the remaining ten features (excluding 'sqft_living') could also have a curvilinear relationship with 'price', just like 'sqft_living' does. Hence, a Multivariate Polynomial Regression Model (MPR Model) is fitted with these eleven features as well. The degree of Polynomial Transformation is set at 2 (so, second-order polynomial transformation). All models are validated by cross validation with four folds. The mean of the R^2 values of the four folds represents the performance of the model. The R^2 value of each fold is calculated using the method \"cross_val_score\" and the predicted values of 'price' is calculated using the method \"cross_val_predict.\" Both methods are imported from the \"sklearn.model_selection module.\""
   ]
  },
  {
   "cell_type": "markdown",
   "metadata": {},
   "source": [
    "## (1) Simple Linear Regression Models (SLR Model, feature = 'long')"
   ]
  },
  {
   "cell_type": "code",
   "execution_count": 20,
   "metadata": {},
   "outputs": [],
   "source": [
    "from sklearn.model_selection import cross_val_score\n",
    "from sklearn.model_selection import cross_val_predict"
   ]
  },
  {
   "cell_type": "code",
   "execution_count": 21,
   "metadata": {},
   "outputs": [
    {
     "data": {
      "text/plain": [
       "array([-0.00018299, -0.00197441, -0.00016301, -0.00442139])"
      ]
     },
     "execution_count": 21,
     "metadata": {},
     "output_type": "execute_result"
    }
   ],
   "source": [
    "# Fit a Simple linear Regression Model using the feature, 'long' (longitude), a feature uncorrelated with 'price.'\n",
    "# The correlation coefficient is 0.022 (< 0.25, so, no relationship).\n",
    "\n",
    "lm_long = LinearRegression()\n",
    "\n",
    "# Cross validation of the model\n",
    "Rcross_lm_long = cross_val_score(lm_long, df[['long']], df['price'], cv=4)\n",
    "Rcross_lm_long"
   ]
  },
  {
   "cell_type": "code",
   "execution_count": 22,
   "metadata": {},
   "outputs": [
    {
     "name": "stdout",
     "output_type": "stream",
     "text": [
      "Mean R^2 (SLR Model, 'long'):  -0.00169 \n",
      "Standard deviation of R^2 values: 0.00174\n"
     ]
    }
   ],
   "source": [
    "# Get the mean of the R^2 values of the four folds and the standard deviation.\n",
    " \n",
    "print(\"Mean R^2 (SLR Model, 'long'): \", (Rcross_lm_long.mean()).round(5), \"\\nStandard deviation of R^2 values:\",\\\n",
    "      (Rcross_lm_long.std()).round(5))"
   ]
  },
  {
   "cell_type": "markdown",
   "metadata": {},
   "source": [
    "## What's Next?\n",
    "\n",
    "Since 'long' and 'price' are not correlated, the SLR model fitted with 'long' has a R^2 value of -0.00168 (nearly 0.0), meaning that the model cannot explain the observed data. Hence, next, 'sqft_living,' the feature correlating with 'price' the most, will be used as the predictor to fit a SLR model for predicting the price of a home. "
   ]
  },
  {
   "cell_type": "markdown",
   "metadata": {},
   "source": [
    "## (2) Simple Linear Regression Model (SLR Model, feature = 'sqft_living')"
   ]
  },
  {
   "cell_type": "code",
   "execution_count": 23,
   "metadata": {
    "jupyter": {
     "outputs_hidden": false
    }
   },
   "outputs": [
    {
     "data": {
      "text/plain": [
       "array([0.48405393, 0.49342812, 0.4945384 , 0.49661067])"
      ]
     },
     "execution_count": 23,
     "metadata": {},
     "output_type": "execute_result"
    }
   ],
   "source": [
    "# Fit a Simple linear Regression model (a SLR model) using the feature 'sqft_living' most correlating with 'price'. \n",
    "# The correlation coefficient is 0.70.\n",
    "\n",
    "lm_sqft_living = LinearRegression()\n",
    "\n",
    "# Cross validation of the model\n",
    "Rcross_lm_sqft_living = cross_val_score(lm_sqft_living, df[['sqft_living']], df['price'], cv=4)\n",
    "Rcross_lm_sqft_living"
   ]
  },
  {
   "cell_type": "code",
   "execution_count": 24,
   "metadata": {},
   "outputs": [
    {
     "name": "stdout",
     "output_type": "stream",
     "text": [
      "Mean R^2 (SLR Model, 'sqft_living'):  0.49216 \n",
      "Standard deviation of R^2 values: 0.00482\n",
      "\n",
      "The predicted values are:[289097.80337707 676049.91415716 174960.84983762 ... 240052.48976191\n",
      " 404620.6062075  240052.48976191]\n",
      "\n"
     ]
    }
   ],
   "source": [
    "# Get the mean of the R^2 values of the four folds and the standard deviation.\n",
    "print(\"Mean R^2 (SLR Model, 'sqft_living'): \", (Rcross_lm_sqft_living.mean()).round(5),\\\n",
    "      \"\\nStandard deviation of R^2 values:\", (Rcross_lm_sqft_living.std()).round(5))\n",
    "print()\n",
    "\n",
    "# Get the predicted values of 'price.'\n",
    "yhat_sqft_living = cross_val_predict(lm_sqft_living, df[['sqft_living']], df['price'], cv=4)\n",
    "\n",
    "print(\"The predicted values are:\" + str(yhat_sqft_living))\n",
    "print()"
   ]
  },
  {
   "cell_type": "markdown",
   "metadata": {},
   "source": [
    "## What's Next?\n",
    "\n",
    "The SLR Model of sqft_living explains a little less than half of the observed data. To have a model with a better performance, it is necessary to determine if the next step is fitting a polynomial regression model of this feature or another linear regression model using additional features. To make this determination, first, a residual plot of 'price' vs. 'sqft_living' needs to be created to substantiate whether the presumption of a linear relationship between 'price' and 'sqft_living' holds true or not.  If this presumption is not true, then a polynomial regression model should be fitted to see if performing polynomial regression on the feature will yield a better model.  "
   ]
  },
  {
   "cell_type": "markdown",
   "metadata": {},
   "source": [
    "## (3) Curvilinear Relationship with 'price'"
   ]
  },
  {
   "cell_type": "markdown",
   "metadata": {},
   "source": [
    "### Residual Plot ('price' vs. 'sqft_living') "
   ]
  },
  {
   "cell_type": "code",
   "execution_count": 25,
   "metadata": {},
   "outputs": [
    {
     "data": {
      "text/plain": [
       "<AxesSubplot:xlabel='sqft_living', ylabel='price'>"
      ]
     },
     "execution_count": 25,
     "metadata": {},
     "output_type": "execute_result"
    },
    {
     "data": {
      "image/png": "[encoded data removed]",
      "text/plain": [
       "<Figure size 720x504 with 1 Axes>"
      ]
     },
     "metadata": {
      "needs_background": "light"
     },
     "output_type": "display_data"
    }
   ],
   "source": [
    "# Generate the residual plot of 'sqft_living' to check whether the residuals randomly spread around the x-axis or not. \n",
    "plt.figure(figsize = (10,7))\n",
    "sns.residplot(data = df, x=df['sqft_living'], y=df['price'])"
   ]
  },
  {
   "cell_type": "markdown",
   "metadata": {},
   "source": [
    "### What's Next? \n",
    "\n",
    "The residual on the plot of 'price' vs. 'sqft_living' displays a cone-shaped pattern, not randomly spread out around the line of 'price'  = 0. This infers that the relationship  between 'sqft_living' and 'price' is curvilinear, not linear as initially proposed. Thus, the SLR model with 'sqft_living' as the predictor is not an appropriate model for predicting the price of a home and a Second-order Polynomial Regression Model (a PR model) needs to be fitted with 'sqft_living' next.  "
   ]
  },
  {
   "cell_type": "markdown",
   "metadata": {},
   "source": [
    "## (4) Polynomial Regression Model (PR Model, feature = 'sqft_living')"
   ]
  },
  {
   "cell_type": "code",
   "execution_count": 26,
   "metadata": {},
   "outputs": [
    {
     "data": {
      "text/plain": [
       "array([0.54422523, 0.56825012, 0.43554832, 0.52764714])"
      ]
     },
     "execution_count": 26,
     "metadata": {},
     "output_type": "execute_result"
    }
   ],
   "source": [
    "# A Polynomial Regerssion Model (degree = 2) using 'sqft_living' as the predictor. \n",
    "\n",
    "# Pipeline is used to fit this Polynomial Regression Model as well as a Multidimensional PR Model later. \n",
    "\n",
    "# Create a list of tuples to be used as the input parameter of a the pipeline object.\n",
    "# The first element in each tuple contains the name of the estimator (e.g. 'scale' in the first tuple).\n",
    "# The second element in each tuple contians the model constructor (e.g. 'StandardScaler()' in the frst tuple)\n",
    "\n",
    "# The steps included  the pipeline are: \n",
    "# (1) Normalize the data - StandardScaler()\n",
    "# (2) Perform polynomial transformation on the data - PolynomialFeatures(), default degree = 2\n",
    "# (3) Fit a linera Regression Model - LinearRegression()\n",
    "\n",
    "Input=[('scale', StandardScaler()),('polynomial', PolynomialFeatures(include_bias=False)),('model',LinearRegression())]\n",
    "\n",
    "# Use the list of tuples \"Input\" to create a pipeline object.\n",
    "pr_sqft_living = Pipeline(Input)\n",
    "\n",
    "# Cross validation of the model\n",
    "Rcross_pr_sqft_living = cross_val_score(pr_sqft_living, df[['sqft_living']], df['price'], cv=4)\n",
    "Rcross_pr_sqft_living"
   ]
  },
  {
   "cell_type": "code",
   "execution_count": 27,
   "metadata": {},
   "outputs": [
    {
     "name": "stdout",
     "output_type": "stream",
     "text": [
      "Mean R^2 (Second-order, 'sqft_living', PR Model):  0.51892 \n",
      "Standard deviation of R^2 values: 0.05025\n",
      "\n",
      "The predicted values are:[328434.44476406 634290.1872233  262779.62971484 ... 305948.92094559\n",
      " 406117.98539705 305948.92094559]\n",
      "\n"
     ]
    }
   ],
   "source": [
    "# Get the mean of the R^2 values of the four folds and the standard deviation.\n",
    "print(\"Mean R^2 (Second-order, 'sqft_living', PR Model): \", (Rcross_pr_sqft_living.mean()).round(5),\\\n",
    "      \"\\nStandard deviation of R^2 values:\", (Rcross_pr_sqft_living.std()).round(5))\n",
    "print()\n",
    "\n",
    "# Get the predicted values of 'price.'\n",
    "yhat_pr_sqft_living = cross_val_predict(pr_sqft_living, df[['sqft_living']], df['price'], cv=4)\n",
    "\n",
    "print(\"The predicted values are:\" + str(yhat_pr_sqft_living))\n",
    "print()"
   ]
  },
  {
   "cell_type": "markdown",
   "metadata": {},
   "source": [
    "## What's Next?\n",
    "\n",
    "When using 'sqft_living as the sole predictor, the mean R^2 value of the PR Model is 0.5189, which is only a little improvement from the mean R^2 value of its SLR Model (0.4921). Therefore, it is safe to say that regardless of the type of the model, one feature alone is insufficient to fit a decent model for predicting the price of a home. Thus, next, all eleven features weakly or moderately correlating with 'price' are used to two models, a Multiple Linear Regression Model (MLR Model) and a Multivariate Polynomial Regression Model (MPR Model, degree = 2). "
   ]
  },
  {
   "cell_type": "markdown",
   "metadata": {},
   "source": [
    "## (5) Multiple Linear Regression Model (MLR Model, 11 Features) "
   ]
  },
  {
   "cell_type": "code",
   "execution_count": 28,
   "metadata": {},
   "outputs": [
    {
     "data": {
      "text/plain": [
       "array([0.65014123, 0.64308611, 0.65591784, 0.66821947])"
      ]
     },
     "execution_count": 28,
     "metadata": {},
     "output_type": "execute_result"
    }
   ],
   "source": [
    "# A Multiple Linear Regression model (a MLR model) with eleven features correlating with 'price' \n",
    "\n",
    "# Create a list of the 11 features that have correlation coefficients > 0.25 to serve as the input for training the model.\n",
    "features =[\"floors\", \"waterfront\",\"lat\" ,\"bedrooms\" ,\"sqft_basement\" ,\"view\" ,\"bathrooms\",\"sqft_living15\",\\\n",
    "           \"sqft_above\",\"grade\",\"sqft_living\"] \n",
    "\n",
    "# Create a linear regression object.\n",
    "lm_11 = LinearRegression()\n",
    "\n",
    "# Cross validation of the model and get the R^2 values of the folds. \n",
    "Rcross_lm_11 = cross_val_score(lm_11, df[features], df['price'], cv=4)\n",
    "Rcross_lm_11"
   ]
  },
  {
   "cell_type": "code",
   "execution_count": 29,
   "metadata": {},
   "outputs": [
    {
     "name": "stdout",
     "output_type": "stream",
     "text": [
      "Mean R^2 (MLR Model, 11 features):  0.65434 \n",
      "Standard deviation of R^2 values: 0.00921\n",
      "\n",
      "The predicted values are:[282691.7687217  657039.19625384 303765.11217108 ... 302384.16493312\n",
      " 419075.37128103 302186.29360281]\n",
      "\n"
     ]
    }
   ],
   "source": [
    "# Get the mean of the R^2 values of the four folds and the standard deviation.\n",
    "print(\"Mean R^2 (MLR Model, 11 features): \", (Rcross_lm_11.mean()).round(5), \"\\nStandard deviation of R^2 values:\",\\\n",
    "      (Rcross_lm_11.std()).round(5))\n",
    "print()\n",
    "\n",
    "# Get the predicted values of 'price.'\n",
    "yhat_lm_11 = cross_val_predict(lm_11, df[features], df['price'], cv=4)\n",
    "\n",
    "print(\"The predicted values are:\" + str(yhat_lm_11))\n",
    "print()"
   ]
  },
  {
   "cell_type": "markdown",
   "metadata": {},
   "source": [
    "## (6) Multivariate Polynomial Regression Model (MPR Model, 11 Features)"
   ]
  },
  {
   "cell_type": "code",
   "execution_count": 30,
   "metadata": {},
   "outputs": [
    {
     "data": {
      "text/plain": [
       "array([0.75283685, 0.73971795, 0.69137814, 0.73531385])"
      ]
     },
     "execution_count": 30,
     "metadata": {},
     "output_type": "execute_result"
    }
   ],
   "source": [
    "# A Second-order Multidimensional Polynomial Regerssion Model (MPR, degree = 2) using 11 features.\n",
    "\n",
    "# Pipeline is used to fit this Polynomial Regression Model. \n",
    "# The steps included  the pipeline are: \n",
    "# (1) Normalize the data - StandardScaler()\n",
    "# (2) Perform polynomial transformation on the data - PolynomialFeatures(), default degree = 2\n",
    "# (3) Fit a linera Regression Model - LinearRegression()\n",
    "\n",
    "Input=[('scale', StandardScaler()),('polynomial', PolynomialFeatures(include_bias=False)),('model',LinearRegression())]\n",
    "\n",
    "# Use the list of tuples \"Input\" to create a pipeline object.\n",
    "pr_11=Pipeline(Input)\n",
    "\n",
    "# Cross validation of the model and get the R^2 values of the folds. \n",
    "Rcross_pr_11 = cross_val_score(pr_11, df[features], df['price'], cv=4)\n",
    "Rcross_pr_11"
   ]
  },
  {
   "cell_type": "code",
   "execution_count": 31,
   "metadata": {},
   "outputs": [
    {
     "name": "stdout",
     "output_type": "stream",
     "text": [
      "Mean R^2 (Second-order, PR Model, 11 features):  0.72981 \n",
      "Standard deviation of R^2 values: 0.02311\n",
      "\n",
      "The predicted values are:[350520.         542328.         460120.         ... 449912.30224609\n",
      " 467580.30224609 449872.30224609]\n",
      "\n"
     ]
    }
   ],
   "source": [
    "# Get the mean of the R^2 values of the four folds and the standard deviation.\n",
    "print(\"Mean R^2 (Second-order, PR Model, 11 features): \", (Rcross_pr_11.mean()).round(5),\\\n",
    "      \"\\nStandard deviation of R^2 values:\", (Rcross_pr_11.std()).round(5))\n",
    "print()\n",
    "\n",
    "# Get the predicted values of 'price.'\n",
    "yhat_pr_11 = cross_val_predict(pr_11, df[features], df['price'], cv=4)\n",
    "\n",
    "print(\"The predicted values are:\" + str(yhat_pr_11))\n",
    "print()"
   ]
  },
  {
   "cell_type": "markdown",
   "metadata": {},
   "source": [
    "## (7) Performance of Models (cross-validation, cv = 4)"
   ]
  },
  {
   "cell_type": "code",
   "execution_count": 32,
   "metadata": {},
   "outputs": [
    {
     "data": {
      "text/html": [
       "<div>\n",
       "<style scoped>\n",
       "    .dataframe tbody tr th:only-of-type {\n",
       "        vertical-align: middle;\n",
       "    }\n",
       "\n",
       "    .dataframe tbody tr th {\n",
       "        vertical-align: top;\n",
       "    }\n",
       "\n",
       "    .dataframe thead th {\n",
       "        text-align: right;\n",
       "    }\n",
       "</style>\n",
       "<table border=\"1\" class=\"dataframe\">\n",
       "  <thead>\n",
       "    <tr style=\"text-align: right;\">\n",
       "      <th></th>\n",
       "      <th>Features</th>\n",
       "      <th>Polynomial Transform</th>\n",
       "      <th>Mean R^2 Value</th>\n",
       "    </tr>\n",
       "    <tr>\n",
       "      <th>Model (Cross-validation, cv=4)</th>\n",
       "      <th></th>\n",
       "      <th></th>\n",
       "      <th></th>\n",
       "    </tr>\n",
       "  </thead>\n",
       "  <tbody>\n",
       "    <tr>\n",
       "      <th>Simple Linear Regression (SLR)</th>\n",
       "      <td>long</td>\n",
       "      <td>None</td>\n",
       "      <td>-0.00169</td>\n",
       "    </tr>\n",
       "    <tr>\n",
       "      <th>Simple Linear Regression (SLR)</th>\n",
       "      <td>sqft_living</td>\n",
       "      <td>None</td>\n",
       "      <td>0.49216</td>\n",
       "    </tr>\n",
       "    <tr>\n",
       "      <th>Polynomial Regression (PR)</th>\n",
       "      <td>sqft_living</td>\n",
       "      <td>Second-order</td>\n",
       "      <td>0.51892</td>\n",
       "    </tr>\n",
       "    <tr>\n",
       "      <th>Multiple Linear Regression (MLR)</th>\n",
       "      <td>11 features</td>\n",
       "      <td>None</td>\n",
       "      <td>0.65434</td>\n",
       "    </tr>\n",
       "    <tr>\n",
       "      <th>Multivariate Polynomial Regression (MPR)</th>\n",
       "      <td>11 features</td>\n",
       "      <td>Second-order</td>\n",
       "      <td>0.72981</td>\n",
       "    </tr>\n",
       "  </tbody>\n",
       "</table>\n",
       "</div>"
      ],
      "text/plain": [
       "                                             Features Polynomial Transform  \\\n",
       "Model (Cross-validation, cv=4)                                               \n",
       "Simple Linear Regression (SLR)                   long                 None   \n",
       "Simple Linear Regression (SLR)            sqft_living                 None   \n",
       "Polynomial Regression (PR)                sqft_living         Second-order   \n",
       "Multiple Linear Regression (MLR)          11 features                 None   \n",
       "Multivariate Polynomial Regression (MPR)  11 features         Second-order   \n",
       "\n",
       "                                          Mean R^2 Value  \n",
       "Model (Cross-validation, cv=4)                            \n",
       "Simple Linear Regression (SLR)                  -0.00169  \n",
       "Simple Linear Regression (SLR)                   0.49216  \n",
       "Polynomial Regression (PR)                       0.51892  \n",
       "Multiple Linear Regression (MLR)                 0.65434  \n",
       "Multivariate Polynomial Regression (MPR)         0.72981  "
      ]
     },
     "execution_count": 32,
     "metadata": {},
     "output_type": "execute_result"
    }
   ],
   "source": [
    "# Create a dataframe to list the mean R^2 values of all models fitted in this section. \n",
    "\n",
    "# Create a series of Lists for the content of the columns in the dataframe. \n",
    "\n",
    "# A List for the names of the models\n",
    "model = ['Simple Linear Regression (SLR) ', 'Simple Linear Regression (SLR)', 'Polynomial Regression (PR)',\\\n",
    "         'Multiple Linear Regression (MLR)', 'Multivariate Polynomial Regression (MPR)']\n",
    "\n",
    "# A List of features used to fit the models. \n",
    "Predictors = ['long', 'sqft_living', 'sqft_living', '11 features', '11 features']\n",
    "Polynomial_Transform = ['None', 'None', 'Second-order', 'None', 'Second-order']\n",
    "\n",
    "# A list of the mean R^2 value of each model calculated by cross validation. \n",
    "R_squared = [-0.00169, 0.49216, 0.51892, 0.65434, 0.72981]\n",
    "\n",
    "# Zip all the lists except the list of the names of the models.\n",
    "list_zip = list(zip(Predictors, Polynomial_Transform, R_squared))\n",
    "\n",
    "# Create the dataframe with the zipped lists and give each column a descrptive name. \n",
    "df_models = pd.DataFrame(list_zip, index = model,\\\n",
    "                         columns = ['Features', 'Polynomial Transform', 'Mean R^2 Value'])\n",
    "\n",
    "# Give the index of each row a descriptive name. \n",
    "df_models.index.name = 'Model (Cross-validation, cv=4)'\n",
    "\n",
    "df_models"
   ]
  },
  {
   "cell_type": "markdown",
   "metadata": {},
   "source": [
    "## Summary (Model Development)\n",
    "\n",
    "The SLR Model fitted with 'long', a feature not correlating with 'price', has a negative R^2 value. This means this SLR Model does not work on the test data at all (https://towardsdatascience.com/explaining-negative-r-squared-17894ca26321). The SLR Model and PR Model fitted with 'sqft_living', the feature correlating with 'price' the most, can only explain about half of the observed data. These outcomes indicate that additional features need to be used to fit a proper model for predicting the price of a home. In indeed, the MLR Model and the MPR Model fitted with the eleven features correlating with 'price' perform much better than those one-feature models. Of all models, the MPR Model is the best performing model so far with a mean R^2 value of 0.72981. Also notice that regardless of the number of predictors of the model, polynomial transform of the predictor(s) seems to always results in a polynomial regression model that performs better than its linear regression peer. This is because features like 'sqft_living' have a curvilinear relationship with 'price.' Despite the fact that all the features correlating with 'price' and applying polynomial transform on them produce better performing models, the complexity of the MLR and MPR models could lead to the consequence of overfitting the models. Whether these two complex models are overfitted or not is explored in the next section. "
   ]
  },
  {
   "cell_type": "markdown",
   "metadata": {},
   "source": [
    "\n",
    "# 5. Model Evaluation and Refinement\n"
   ]
  },
  {
   "cell_type": "markdown",
   "metadata": {},
   "source": [
    "## Introduction \n",
    "\n",
    "This section consists of three parts. In Part A, a MLR Model and MPR Model are fitted with the training data and then validated with the testing data i.e., out-of-sample validation, in an effort to answer the question about whether these two types of models are overfitted or not. In Part B, a Ridge Regression Model with polynomial transform (degree = 2) on the eleven features is fitted and compared with the MPR Model created in Part A to study the effects of Ridge Regression on the performance and the coefficients of the MPR Model. In Part C, two Ridge Regression Models with and without transforming the eleven features (RR_MLR Model and RR_MPR Model) are fitted and validated by cross-validation. Then, their R^2 values are compared with those models cross-validated in the \"Model Development\" section. "
   ]
  },
  {
   "cell_type": "markdown",
   "metadata": {},
   "source": [
    "## Part A. Overfitting MLR and MPR Models?"
   ]
  },
  {
   "cell_type": "markdown",
   "metadata": {},
   "source": [
    "To begin the study, the data of the eleven features is split into the training set and testing set. The training set is used to fit two models that are more susceptible to overfitting, one without polynomial transformation performed on the training data (MLR_ov Model)  and the other with the transformation (MPR_ov Model). Note that to differentiate the models fitted in this part from those fitted and validated by cross-validation, all models fitted in this section have \"ov\" (stands for out-of-sample validation) in their names. Once the models are fitted, the R^2 values calculated from both the training data and the testing data are compared to conclude whether these models are overfitted or not."
   ]
  },
  {
   "cell_type": "markdown",
   "metadata": {},
   "source": [
    "### (1) Split Data into Traning Dataset and Testing Dataset"
   ]
  },
  {
   "cell_type": "code",
   "execution_count": 33,
   "metadata": {
    "jupyter": {
     "outputs_hidden": false
    }
   },
   "outputs": [
    {
     "name": "stdout",
     "output_type": "stream",
     "text": [
      "done\n"
     ]
    }
   ],
   "source": [
    "# Import the necessary module\n",
    "from sklearn.model_selection import train_test_split\n",
    "print(\"done\")"
   ]
  },
  {
   "cell_type": "code",
   "execution_count": 34,
   "metadata": {
    "jupyter": {
     "outputs_hidden": false
    },
    "scrolled": true
   },
   "outputs": [
    {
     "name": "stdout",
     "output_type": "stream",
     "text": [
      "sample size = 0.15\n",
      "\n",
      "number of testing data: 3242\n",
      "number of training data: 18371\n"
     ]
    }
   ],
   "source": [
    "# Split the data of those eleven features (correlation coefficients > 0.25) into training and testing datasets. \n",
    "# The split will result in 15% of the data being the testing data and 85% of the data being the training data. \n",
    "# The outputs of the split are two Dataframes, x_train, x_test and two Series y_train, y_test. \n",
    "   \n",
    "X = df[features]\n",
    "Y = df['price']\n",
    "\n",
    "# Samaple Size\n",
    "print(\"sample size = \" + str(0.15))\n",
    "print()\n",
    "\n",
    "x_train, x_test, y_train, y_test = train_test_split(X, Y, test_size=0.15, random_state=1)\n",
    "\n",
    "# Get the number of testing samples and training samples, respectively. \n",
    "print(\"number of testing data:\", x_test.shape[0])\n",
    "print(\"number of training data:\",x_train.shape[0])"
   ]
  },
  {
   "cell_type": "markdown",
   "metadata": {},
   "source": [
    "### (2) MLR_ov Model (11 features, sample size = 0.15, R^2 values: training vs. testing)"
   ]
  },
  {
   "cell_type": "code",
   "execution_count": 35,
   "metadata": {},
   "outputs": [
    {
     "name": "stdout",
     "output_type": "stream",
     "text": [
      "sample size = 0.15\n",
      "\n",
      "The predicted values are:[283620.42602589 667108.31110124 297802.42648969 ... 305967.00031699\n",
      " 431229.10221592 305763.6305693 ]\n",
      "\n",
      "R^2 (training set, MLR_ov Model): 0.65944\n",
      "R^2 (testing set, MLR_ov Model): 0.64788\n"
     ]
    }
   ],
   "source": [
    "# A Multiple Linear Regression Model (a MLR model) fitted with eleven features in the 'features' list \n",
    "\n",
    "# Fit a linear regression model to predict the 'price' using the training set.'\n",
    "lm_11_ov = LinearRegression()\n",
    "lm_11_ov.fit(x_train, y_train)\n",
    "\n",
    "# Samaple Size\n",
    "print(\"sample size = \" + str(0.15))\n",
    "print()\n",
    "\n",
    "# Get the predicted values of 'price.'\n",
    "print(\"The predicted values are:\" + str(lm_11_ov.predict(df[features])))\n",
    "print()\n",
    "\n",
    "# Calculate R^2 value of the above linear regression model. \n",
    "print(\"R^2 (training set, MLR_ov Model): \" + str(lm_11_ov.score(x_train, y_train).round(5)))\n",
    "print(\"R^2 (testing set, MLR_ov Model): \" + str(lm_11_ov.score(x_test, y_test).round(5)))"
   ]
  },
  {
   "cell_type": "markdown",
   "metadata": {},
   "source": [
    "### (3) MPR_ov Model (11 features, sample size = 0.15, R^2 values: training vs. testing)"
   ]
  },
  {
   "cell_type": "code",
   "execution_count": 36,
   "metadata": {},
   "outputs": [
    {
     "name": "stdout",
     "output_type": "stream",
     "text": [
      "sample size = 0.15\n",
      "\n",
      "The predicted values are:[ 341893.25  337321.75  257941.25 ...  612407.5   475113.25 1093577.25]\n",
      "\n",
      "R^2 (training set, MPR_ov Model): 0.75391\n",
      "R^2 (testing set, MPR_ov Model): 0.7117\n"
     ]
    }
   ],
   "source": [
    "# A second-order Multivariate Polynomial Regerssion Model (degree = 2) fitted with the training set of the 11 features. \n",
    "\n",
    "# Pipeline is used to fit this Polynomial Regression Model. \n",
    "\n",
    "# Create a list of tuples to be used as the input parameter of a the pipeline object.\n",
    "# The first element in each tuple contains the name of the estimator (e.g. 'scale' in the first tuple).\n",
    "# The second element in each tuple contians the model constructor (e.g. 'StandardScaler()' in the frst tuple)\n",
    "\n",
    "# The steps included  the pipeline are: \n",
    "# (1) Normalize the data - StandardScaler()\n",
    "# (2) Perform polynomial transformation on the data - PolynomialFeatures(), default degree = 2\n",
    "# (3) Fit a linera Regression Model - LinearRegression()\n",
    "\n",
    "Input=[('scale', StandardScaler()),('polynomial', PolynomialFeatures(include_bias=False)),('model',LinearRegression())]\n",
    "\n",
    "# Use the list of tuples \"Input\" to create a pipeline object.\n",
    "pr_11_ov =Pipeline(Input)\n",
    "\n",
    "# Fit the polynomial model using the features in the list, \"features\" and the pipeline object.  \n",
    "pr_11_ov.fit(x_train, y_train)\n",
    "\n",
    "# Samaple Size\n",
    "print(\"sample size = \" + str(0.15))\n",
    "print()\n",
    "\n",
    "# Get the predicted values of 'price'\n",
    "print(\"The predicted values are:\" + str(pr_11_ov.predict(x_train))) \n",
    "print()\n",
    "\n",
    "# Calculate the R^2 value.\n",
    "print(\"R^2 (training set, MPR_ov Model): \" +\\\n",
    "      str(pr_11_ov.score(x_train, y_train).round(5)))\n",
    "print(\"R^2 (testing set, MPR_ov Model): \" +\\\n",
    "      str(pr_11_ov.score(x_test, y_test).round(5)))"
   ]
  },
  {
   "cell_type": "markdown",
   "metadata": {},
   "source": [
    " ### (4) Conclusion on Overfitting MLR and MPR Models"
   ]
  },
  {
   "cell_type": "code",
   "execution_count": 37,
   "metadata": {},
   "outputs": [
    {
     "data": {
      "text/html": [
       "<div>\n",
       "<style scoped>\n",
       "    .dataframe tbody tr th:only-of-type {\n",
       "        vertical-align: middle;\n",
       "    }\n",
       "\n",
       "    .dataframe tbody tr th {\n",
       "        vertical-align: top;\n",
       "    }\n",
       "\n",
       "    .dataframe thead th {\n",
       "        text-align: right;\n",
       "    }\n",
       "</style>\n",
       "<table border=\"1\" class=\"dataframe\">\n",
       "  <thead>\n",
       "    <tr style=\"text-align: right;\">\n",
       "      <th></th>\n",
       "      <th>Features</th>\n",
       "      <th>Polynomial Transform</th>\n",
       "      <th>R^2 Value (training)</th>\n",
       "      <th>R^2 Value(testing)</th>\n",
       "      <th>Difference, R^2 Value</th>\n",
       "    </tr>\n",
       "    <tr>\n",
       "      <th>Model (sample size = 0.15)</th>\n",
       "      <th></th>\n",
       "      <th></th>\n",
       "      <th></th>\n",
       "      <th></th>\n",
       "      <th></th>\n",
       "    </tr>\n",
       "  </thead>\n",
       "  <tbody>\n",
       "    <tr>\n",
       "      <th>Multiple Linear Regression (MLR_ov)</th>\n",
       "      <td>11 features</td>\n",
       "      <td>None</td>\n",
       "      <td>0.65944</td>\n",
       "      <td>0.64788</td>\n",
       "      <td>0.01156</td>\n",
       "    </tr>\n",
       "    <tr>\n",
       "      <th>Multivariate Polynomial Regression (MPR_ov)</th>\n",
       "      <td>11 features</td>\n",
       "      <td>Second-order</td>\n",
       "      <td>0.75391</td>\n",
       "      <td>0.71170</td>\n",
       "      <td>0.04221</td>\n",
       "    </tr>\n",
       "  </tbody>\n",
       "</table>\n",
       "</div>"
      ],
      "text/plain": [
       "                                                Features Polynomial Transform  \\\n",
       "Model (sample size = 0.15)                                                      \n",
       "Multiple Linear Regression (MLR_ov)          11 features                 None   \n",
       "Multivariate Polynomial Regression (MPR_ov)  11 features         Second-order   \n",
       "\n",
       "                                             R^2 Value (training)  \\\n",
       "Model (sample size = 0.15)                                          \n",
       "Multiple Linear Regression (MLR_ov)                       0.65944   \n",
       "Multivariate Polynomial Regression (MPR_ov)               0.75391   \n",
       "\n",
       "                                             R^2 Value(testing)  \\\n",
       "Model (sample size = 0.15)                                        \n",
       "Multiple Linear Regression (MLR_ov)                     0.64788   \n",
       "Multivariate Polynomial Regression (MPR_ov)             0.71170   \n",
       "\n",
       "                                             Difference, R^2 Value  \n",
       "Model (sample size = 0.15)                                          \n",
       "Multiple Linear Regression (MLR_ov)                        0.01156  \n",
       "Multivariate Polynomial Regression (MPR_ov)                0.04221  "
      ]
     },
     "execution_count": 37,
     "metadata": {},
     "output_type": "execute_result"
    }
   ],
   "source": [
    "# Create a dataframe that includes the R^2 values of the MLR Model and MPR Model.\n",
    "\n",
    "# Create lists containing the content of the columns of the dataframe.\n",
    "\n",
    "# A list for the names of the models\n",
    "model_ov = ['Multiple Linear Regression (MLR_ov) ', 'Multivariate Polynomial Regression (MPR_ov)']\n",
    "\n",
    "# A list for the number of features used to fit the models. \n",
    "Predictors_ov = ['11 features', '11 features']\n",
    "\n",
    "# A list for the R^2 values of the training data of the two models\n",
    "R_squared_tr = [0.65944, 0.75391]   \n",
    "\n",
    "# A List for the R^2 values of the testing data of the two models\n",
    "R_squared_ts = [0.64788, 0.71170]\n",
    "\n",
    "# A list to contain the answers to whether the features underwent Polynomial Transform or not and if they do, \n",
    "# the degree of the Polynomial Transform\n",
    "Polynomial_Transform_ov= ['None','Second-order']  \n",
    "\n",
    "# A List to contain the difference between the R^2 values of the training data and testing data\n",
    "R_squared_diff = [(0.65944 - 0.64788), (0.75391 - 0.71170)]\n",
    "\n",
    "# Zip all the lists except the list for the names of the models. \n",
    "list_zip_ov = list(zip(Predictors_ov, Polynomial_Transform_ov, R_squared_tr, R_squared_ts, R_squared_diff))\n",
    "\n",
    "# Create the dataframe using the zipped lists and give each column an appropriate name. \n",
    "df_models_ov = pd.DataFrame(\\\n",
    "                            list_zip_ov, index = model_ov,\\\n",
    "                            columns = ['Features', 'Polynomial Transform','R^2 Value (training)',\\\n",
    "                                       'R^2 Value(testing)', 'Difference, R^2 Value'])\n",
    "\n",
    "# Give the index of each row an appropriate name.\n",
    "df_models_ov.index.name = 'Model (sample size = 0.15)'\n",
    "\n",
    "df_models_ov"
   ]
  },
  {
   "cell_type": "markdown",
   "metadata": {},
   "source": [
    "In either model, the R^2 value calculated with the testing data is only slightly lower than the R^2 value calculated with the training data. This means that in spite of their complexity, neither models is much overfitted. However, as expected, the MPR model, which consists of seventy-seven final predictors as opposed to the eleven predictors in the MLR model, is slightly more overfitted than the MLR Model. Therefore, it is worthwhile to look into how Ridge Regression can be used to alleviate the overfitting of the MPR Model.   "
   ]
  },
  {
   "cell_type": "markdown",
   "metadata": {},
   "source": [
    "## Part B. Ridge Regression"
   ]
  },
  {
   "cell_type": "markdown",
   "metadata": {},
   "source": [
    "In this part, Ridge Regression is applied to mitigate the overfitting of the MPR_ov Model as well as the aforementioned multicollinearity (discussed in the \"Exploratory Data Analysis\" section) among some of the eleven features used to fit the MPR_ov Model. So, like what was done to fit the MPR_ov Model, Second-Order Polynomial Transform is performed on the eleven features prior to Ridge Regression. Once Again, the transform results in seventy-seven predictors for the Ridge Regression Model (RR_MPR_ov Model). Then, the R^2 values and the coefficients of the MPR_ov Model and the RR_MPR_ov Model are compared to show the effects of Ridge Regression on the MPR_ov Model.  "
   ]
  },
  {
   "cell_type": "code",
   "execution_count": 38,
   "metadata": {},
   "outputs": [],
   "source": [
    "# Import the Ridge module. \n",
    "\n",
    "from sklearn.linear_model import Ridge"
   ]
  },
  {
   "cell_type": "markdown",
   "metadata": {},
   "source": [
    "### (1) Ridge Regression Model with Polynomial Transform  (R^2 values from training data and testing data)"
   ]
  },
  {
   "cell_type": "code",
   "execution_count": 39,
   "metadata": {},
   "outputs": [
    {
     "name": "stdout",
     "output_type": "stream",
     "text": [
      "Sample size = 0.15\n",
      "R^2 (training set, RR_MPR_ov Model, second-order, alpha = 0.1): 0.75391\n",
      "R^2 (testing set, RR_MPR_ov Model, second-order, alpha = 0.1): 0.71173\n"
     ]
    }
   ],
   "source": [
    "# Create a Ridge Regression Model using Pipeline that includes Polynomial Transform (degree =2) as the 2nd step,\n",
    "# sample size = 0.15.\n",
    " \n",
    "# Create a list of tuples to be used as the input parameter of a the pipeline object.\n",
    "\n",
    "# The steps included  the pipeline are: \n",
    "# (1) Normalize the data - StandardScaler()\n",
    "# (2) Perform polynomial transformation on the data - PolynomialFeatures(), default degree = 2\n",
    "# (3) Fit a Ridge Regression Model - RidgeRegression()\n",
    "\n",
    "Input=[('scale', StandardScaler()),('polynomial', PolynomialFeatures(include_bias=False)),('model',Ridge(alpha = 0.1))]\n",
    "\n",
    "# Use the list of tuples \"Input\" to create a pipeline object.\n",
    "pr_11_Ridge =Pipeline(Input)\n",
    "\n",
    "# Fit the Ridge Regression model using the training data. \n",
    "pr_11_Ridge.fit(x_train, y_train)\n",
    "\n",
    "print(\"Sample size = 0.15\")\n",
    "\n",
    "# Calculate the R^2 value using the training data.\n",
    "print(\"R^2 (training set, RR_MPR_ov Model, second-order, alpha = 0.1): \" +\\\n",
    "      str(pr_11_Ridge.score(x_train, y_train).round(5)))\n",
    "\n",
    "# Calculate the R^2 value using the testing data.\n",
    "print(\"R^2 (testing set, RR_MPR_ov Model, second-order, alpha = 0.1): \" +\\\n",
    "      str(pr_11_Ridge.score(x_test, y_test).round(5)))"
   ]
  },
  {
   "cell_type": "markdown",
   "metadata": {},
   "source": [
    "### (2) Comparing R^2 Values (MPR Model vs. Ridge Regression Model) "
   ]
  },
  {
   "cell_type": "code",
   "execution_count": 40,
   "metadata": {},
   "outputs": [
    {
     "data": {
      "text/html": [
       "<div>\n",
       "<style scoped>\n",
       "    .dataframe tbody tr th:only-of-type {\n",
       "        vertical-align: middle;\n",
       "    }\n",
       "\n",
       "    .dataframe tbody tr th {\n",
       "        vertical-align: top;\n",
       "    }\n",
       "\n",
       "    .dataframe thead th {\n",
       "        text-align: right;\n",
       "    }\n",
       "</style>\n",
       "<table border=\"1\" class=\"dataframe\">\n",
       "  <thead>\n",
       "    <tr style=\"text-align: right;\">\n",
       "      <th></th>\n",
       "      <th>Features</th>\n",
       "      <th>Polynomial Transform</th>\n",
       "      <th>R^2 Value (training)</th>\n",
       "      <th>R^2 Value(testing)</th>\n",
       "    </tr>\n",
       "    <tr>\n",
       "      <th>Model (sample size = 0.15)</th>\n",
       "      <th></th>\n",
       "      <th></th>\n",
       "      <th></th>\n",
       "      <th></th>\n",
       "    </tr>\n",
       "  </thead>\n",
       "  <tbody>\n",
       "    <tr>\n",
       "      <th>Multivariate Polynomial Regression (MPR_ov)</th>\n",
       "      <td>11 features</td>\n",
       "      <td>Second-order</td>\n",
       "      <td>0.75391</td>\n",
       "      <td>0.71170</td>\n",
       "    </tr>\n",
       "    <tr>\n",
       "      <th>Ridge Regression Model (RR_MPR_ov)</th>\n",
       "      <td>11 features</td>\n",
       "      <td>Second-order</td>\n",
       "      <td>0.75391</td>\n",
       "      <td>0.71173</td>\n",
       "    </tr>\n",
       "  </tbody>\n",
       "</table>\n",
       "</div>"
      ],
      "text/plain": [
       "                                                Features Polynomial Transform  \\\n",
       "Model (sample size = 0.15)                                                      \n",
       "Multivariate Polynomial Regression (MPR_ov)  11 features         Second-order   \n",
       "Ridge Regression Model (RR_MPR_ov)           11 features         Second-order   \n",
       "\n",
       "                                             R^2 Value (training)  \\\n",
       "Model (sample size = 0.15)                                          \n",
       "Multivariate Polynomial Regression (MPR_ov)               0.75391   \n",
       "Ridge Regression Model (RR_MPR_ov)                        0.75391   \n",
       "\n",
       "                                             R^2 Value(testing)  \n",
       "Model (sample size = 0.15)                                       \n",
       "Multivariate Polynomial Regression (MPR_ov)             0.71170  \n",
       "Ridge Regression Model (RR_MPR_ov)                      0.71173  "
      ]
     },
     "execution_count": 40,
     "metadata": {},
     "output_type": "execute_result"
    }
   ],
   "source": [
    "# Create a dataframe containing the R^2 values of the MPR Model and the Ridge Regression Model (sample size = 0.15). \n",
    "\n",
    "# Create a series of lists for the content of the columns to be included in the dataframe. \n",
    "\n",
    "# A List for the names of the models\n",
    "model_ov = ['Multivariate Polynomial Regression (MPR_ov)', 'Ridge Regression Model (RR_MPR_ov)']\n",
    "\n",
    "# A list for the number of features used to fit the models\n",
    "Predictors_ov = ['11 features', '11 features']\n",
    "\n",
    "# A list for the types of polynomial transform the features of the models underwent\n",
    "Polynomial_Transform_ov= ['Second-order','Second-order']\n",
    "\n",
    "# A list of R^2 values from the training set \n",
    "R_squared_tr = [0.75391, 0.75391]\n",
    "\n",
    "# A list of R^2 values from the training set\n",
    "R_squared_ts = [0.71170, 0.71173]\n",
    "\n",
    "# Zip all the lists except the list for the names of the models.   \n",
    "list_zip_ov = list(zip(Predictors_ov, Polynomial_Transform_ov, R_squared_tr, R_squared_ts))\n",
    "\n",
    "# Create the dataframe using the zipped lists and give each column an appropriate name. \n",
    "df_models_ov = pd.DataFrame(list_zip_ov,index = model_ov,\\\n",
    "                            columns = ['Features', 'Polynomial Transform',\\\n",
    "                                       'R^2 Value (training)', 'R^2 Value(testing)'])\n",
    "\n",
    "# Give the index of each row an appropriate name.\n",
    "df_models_ov.index.name = 'Model (sample size = 0.15)'\n",
    "\n",
    "df_models_ov"
   ]
  },
  {
   "cell_type": "markdown",
   "metadata": {},
   "source": [
    "### Comments on the Effect of Ridge Regression on R^2 Values\n",
    "\n",
    "Ridge Regression does not alter the R^2 value of calculated from the training data of the MPR_ov Model, but slightly increases the R^2 value calculated from the testing data of that model. That is, Ridge regression only marginally improved the R^2 value calculated from the testing data. So, bar graphs of the coefficients of the RR_MPR_ov Model and the MPR_ov Model are compared to visualize more significant changes made by performing Ridge Regression. "
   ]
  },
  {
   "cell_type": "markdown",
   "metadata": {},
   "source": [
    "### (3) Comparing Coefficients (MPR Model vs. Ridge Regression Model)"
   ]
  },
  {
   "cell_type": "code",
   "execution_count": 41,
   "metadata": {},
   "outputs": [
    {
     "data": {
      "text/plain": [
       "<AxesSubplot:title={'center':'Coefficients, Multivariate Polynomial Regression Model (MPR_ov Model)        (sample size = 0.15, scale = power of 16)'}>"
      ]
     },
     "execution_count": 41,
     "metadata": {},
     "output_type": "execute_result"
    },
    {
     "data": {
      "image/png": "[encoded data removed]",
      "text/plain": [
       "<Figure size 1152x720 with 1 Axes>"
      ]
     },
     "metadata": {
      "needs_background": "light"
     },
     "output_type": "display_data"
    }
   ],
   "source": [
    "# Plot the coefficients of the Multivariate Polynomial Regression Model (The MPR Model, sample size = 0.15).\n",
    "\n",
    "# Get the names of the features of the model. \n",
    "name_features_pr = pr_11_ov.named_steps['polynomial'].get_feature_names_out(input_features = features)\n",
    "\n",
    "# Get the coefficients of the features. \n",
    "pr_coef = pr_11_ov.named_steps['model'].coef_\n",
    "\n",
    "# Create a Series of the names of the the features and their coefficients. \n",
    "coef3 = pd.Series(pr_coef, name_features_pr)\n",
    "\n",
    "# Create a bar graph of the coefficents. \n",
    "coef3.plot(kind='bar',\\\n",
    "        title='Coefficients, Multivariate Polynomial Regression Model (MPR_ov Model)\\\n",
    "        (sample size = 0.15, scale = power of 16)',\\\n",
    "        ylim = (-2.5e16, 1e16), figsize=(16, 10))"
   ]
  },
  {
   "cell_type": "code",
   "execution_count": 42,
   "metadata": {},
   "outputs": [
    {
     "data": {
      "text/plain": [
       "<AxesSubplot:title={'center':'Coefficients, Ridge Regression Model (RR_MPR_ov Model),            (alpha = 0.1, Polynomial Transform, sample size = 0.15, scale = power of 5)'}>"
      ]
     },
     "execution_count": 42,
     "metadata": {},
     "output_type": "execute_result"
    },
    {
     "data": {
      "image/png": "[encoded data removed]",
      "text/plain": [
       "<Figure size 1152x720 with 1 Axes>"
      ]
     },
     "metadata": {
      "needs_background": "light"
     },
     "output_type": "display_data"
    }
   ],
   "source": [
    "# Plot the coefficients of the Ridge Regression Model (Sample size = 0.15, alpha = 0.1)\n",
    "\n",
    "# Get the names of the features of the model. \n",
    "name_features_rr_pr = pr_11_Ridge.named_steps['polynomial'].get_feature_names_out(input_features = features)\n",
    "\n",
    "# Get the coefficients of the features. \n",
    "rr_pr_coef = pr_11_Ridge.named_steps['model'].coef_\n",
    "\n",
    "# Create a Series of the names of the the features and their coefficients.\n",
    "coef4=pd.Series(rr_pr_coef, name_features_rr_pr)\n",
    "\n",
    "# Create a Series of the names of the the features and their coefficients.\n",
    "coef4.plot(kind='bar', \\\n",
    "           title= 'Coefficients, Ridge Regression Model (RR_MPR_ov Model), \\\n",
    "           (alpha = 0.1, Polynomial Transform, sample size = 0.15, scale = power of 5)',\\\n",
    "           ylim = (-3e5, 3e5),figsize=(16, 10) )"
   ]
  },
  {
   "cell_type": "markdown",
   "metadata": {},
   "source": [
    "### Comments on the Effect of Ridge Regression on Coefficients\n",
    "\n",
    "The comparison of the two bar graphs indicates that Ridge Regression significantly decreases the coefficients of the MPR_ov Model by approximately ten to eleven orders of magnitude. That is, by setting the regularizing parameter (alpha) at 0.1, Ridge Regression attenuates all of the coefficients of the MPR Model to a considerable degree, making the impact that each of the seventy-seven predictors has on the RR_MPR_ov Model much smaller than they did in the MPR_ov Model. This is in sharp contrast to a very small increase of the R^2 value calculated from the testing data (an increase from 0.71170 to 0.71173)."
   ]
  },
  {
   "cell_type": "markdown",
   "metadata": {},
   "source": [
    "## Part C. Ridge Regression Models (RR_MLR Model and RR_MPR Model) for Comparison"
   ]
  },
  {
   "cell_type": "markdown",
   "metadata": {},
   "source": [
    "In this part, two more Ridge Regression Models are fitted and validated by cross-validation (RR_MLR Model and RR_MPR Model) for the purpose of comparing their R^2 values with those of other models fitted in the \"Model Development\" section, . Note that the names of these two models do not contain \"ov\" because they are cross-validated just like how their peers were validated in the \"Model Development\" section. Once these two Ridge Regression models are fitted, the R^2 values of all cross-validated models (seven of them) are tabulated in a dataframe for comparison. "
   ]
  },
  {
   "cell_type": "markdown",
   "metadata": {},
   "source": [
    "### (1) Ridge Regression Model (RR_MLR Model, 11 features, cross-validation)"
   ]
  },
  {
   "cell_type": "code",
   "execution_count": 43,
   "metadata": {},
   "outputs": [
    {
     "data": {
      "text/plain": [
       "array([0.65012549, 0.64308975, 0.65592955, 0.66822354])"
      ]
     },
     "execution_count": 43,
     "metadata": {},
     "output_type": "execute_result"
    }
   ],
   "source": [
    "# Create a Ridge regression object and set the regularization parameter (alpha) to be 0.1\n",
    "RidgeModel_lm_cv=Ridge(alpha=0.1)\n",
    "\n",
    "# Perform cross validation and get the R^2 values of the folds, cv = 4. \n",
    "Rcross_rr_lm_11 = cross_val_score(RidgeModel_lm_cv, df[features], df['price'], cv=4)\n",
    "Rcross_rr_lm_11"
   ]
  },
  {
   "cell_type": "code",
   "execution_count": 44,
   "metadata": {
    "scrolled": true
   },
   "outputs": [
    {
     "name": "stdout",
     "output_type": "stream",
     "text": [
      "Mean R^2 (RR Model, 11 features, alpha = 0.1):  0.65434 \n",
      "Standard deviation of R^2 values: 0.00921\n",
      "\n",
      "The predicted values are:[282700.23844251 657004.39841602 303718.44875292 ... 302385.45779758\n",
      " 419081.75174994 302187.65231222]\n",
      "\n"
     ]
    }
   ],
   "source": [
    "# Get the mean of the R^2 values and the standard deviation of the four folds .\n",
    "print(\"Mean R^2 (RR Model, 11 features, alpha = 0.1): \", (Rcross_rr_lm_11.mean()).round(5),\\\n",
    "      \"\\nStandard deviation of R^2 values:\",\\\n",
    "      (Rcross_rr_lm_11.std()).round(5))\n",
    "print()\n",
    "\n",
    "# Get the predicted values of 'price.'\n",
    "yhat_rr_lm_11 = cross_val_predict(RidgeModel_lm_cv, df[features], df['price'], cv=4)\n",
    "\n",
    "print(\"The predicted values are:\" + str(yhat_rr_lm_11))\n",
    "print()"
   ]
  },
  {
   "cell_type": "markdown",
   "metadata": {},
   "source": [
    "### (2) Ridge Regression Model with Polynomial Transform (RR_MPR Model, 11 features, cross-validation)"
   ]
  },
  {
   "cell_type": "code",
   "execution_count": 45,
   "metadata": {},
   "outputs": [
    {
     "data": {
      "text/plain": [
       "array([0.75287555, 0.73974267, 0.69137986, 0.7356803 ])"
      ]
     },
     "execution_count": 45,
     "metadata": {},
     "output_type": "execute_result"
    }
   ],
   "source": [
    "# Create a Ridge Regression Model using Pipeline that includes Polynomail Transform of the features as the 2nd step.\n",
    "\n",
    "# The steps included  the pipeline are: \n",
    "# (1) Normalize the data - StandardScaler()\n",
    "# (2) Perform polynomial transformation on the data - PolynomialFeatures(), default degree = 2\n",
    "# (3) Fit a linera Regression Model - LinearRegression()\n",
    "\n",
    "Input=[('scale', StandardScaler()),('polynomial', PolynomialFeatures(include_bias=False)),('model',Ridge(alpha = 0.1))]\n",
    "\n",
    "# Use the list of tuples \"Input\" to create a pipeline object.\n",
    "pr_11_Ridge_cv=Pipeline(Input)\n",
    "\n",
    "# Cross validate the model and get the R^2 values of the folds. \n",
    "Rcross_pr_11_Ridge_cv = cross_val_score(pr_11_Ridge_cv, df[features], df['price'], cv=4)\n",
    "Rcross_pr_11_Ridge_cv"
   ]
  },
  {
   "cell_type": "code",
   "execution_count": 46,
   "metadata": {
    "scrolled": true
   },
   "outputs": [
    {
     "name": "stdout",
     "output_type": "stream",
     "text": [
      "Mean R^2 (Second-order, PR Model, 11 features):  0.72992 \n",
      "Standard deviation of R^2 values: 0.02314\n",
      "\n",
      "The predicted values are:[350257.08716575 542303.25169847 460189.17043163 ... 447163.75049544\n",
      " 464843.29417922 447116.74961082]\n",
      "\n"
     ]
    }
   ],
   "source": [
    "# Get the mean of the R^2 values and the standard deviation of the four folds.\n",
    "print(\"Mean R^2 (Second-order, PR Model, 11 features): \", (Rcross_pr_11_Ridge_cv.mean()).round(5),\\\n",
    "      \"\\nStandard deviation of R^2 values:\", (Rcross_pr_11_Ridge_cv.std()).round(5))\n",
    "print()\n",
    "\n",
    "# Get the predicted values of 'price.'\n",
    "yhat_pr_11_Ridge_cv = cross_val_predict(pr_11_Ridge_cv, df[features], df['price'], cv=4)\n",
    "\n",
    "print(\"The predicted values are:\" + str(yhat_pr_11_Ridge_cv))\n",
    "print()"
   ]
  },
  {
   "cell_type": "markdown",
   "metadata": {},
   "source": [
    "### (3) Comparison of All Models (cross-validation, cv = 4)"
   ]
  },
  {
   "cell_type": "code",
   "execution_count": 47,
   "metadata": {},
   "outputs": [
    {
     "data": {
      "text/html": [
       "<div>\n",
       "<style scoped>\n",
       "    .dataframe tbody tr th:only-of-type {\n",
       "        vertical-align: middle;\n",
       "    }\n",
       "\n",
       "    .dataframe tbody tr th {\n",
       "        vertical-align: top;\n",
       "    }\n",
       "\n",
       "    .dataframe thead th {\n",
       "        text-align: right;\n",
       "    }\n",
       "</style>\n",
       "<table border=\"1\" class=\"dataframe\">\n",
       "  <thead>\n",
       "    <tr style=\"text-align: right;\">\n",
       "      <th></th>\n",
       "      <th>Features</th>\n",
       "      <th>Polynomial Transform</th>\n",
       "      <th>Mean R^2 Value</th>\n",
       "    </tr>\n",
       "    <tr>\n",
       "      <th>Model (cross-validation, cv =4)</th>\n",
       "      <th></th>\n",
       "      <th></th>\n",
       "      <th></th>\n",
       "    </tr>\n",
       "  </thead>\n",
       "  <tbody>\n",
       "    <tr>\n",
       "      <th>Simple Linear Regression (SLR)</th>\n",
       "      <td>long</td>\n",
       "      <td>None</td>\n",
       "      <td>-0.00168</td>\n",
       "    </tr>\n",
       "    <tr>\n",
       "      <th>Simple Linear Regression (SLR)</th>\n",
       "      <td>sqft_living</td>\n",
       "      <td>None</td>\n",
       "      <td>0.49215</td>\n",
       "    </tr>\n",
       "    <tr>\n",
       "      <th>Polynomial Regression (PR)</th>\n",
       "      <td>sqft_living</td>\n",
       "      <td>Second-order</td>\n",
       "      <td>0.51891</td>\n",
       "    </tr>\n",
       "    <tr>\n",
       "      <th>Multiple Linear Regression (MLR)</th>\n",
       "      <td>11 features</td>\n",
       "      <td>None</td>\n",
       "      <td>0.65434</td>\n",
       "    </tr>\n",
       "    <tr>\n",
       "      <th>Multivariate Polynomial Regression (MPR)</th>\n",
       "      <td>11 features</td>\n",
       "      <td>Second-order</td>\n",
       "      <td>0.72981</td>\n",
       "    </tr>\n",
       "    <tr>\n",
       "      <th>Ridge Regression (RR_MLR)</th>\n",
       "      <td>11 features</td>\n",
       "      <td>None</td>\n",
       "      <td>0.65434</td>\n",
       "    </tr>\n",
       "    <tr>\n",
       "      <th>Ridge Regression with Polynomial Transform (RR_MPR)</th>\n",
       "      <td>11 features</td>\n",
       "      <td>Second-order</td>\n",
       "      <td>0.72992</td>\n",
       "    </tr>\n",
       "  </tbody>\n",
       "</table>\n",
       "</div>"
      ],
      "text/plain": [
       "                                                       Features  \\\n",
       "Model (cross-validation, cv =4)                                   \n",
       "Simple Linear Regression (SLR)                             long   \n",
       "Simple Linear Regression (SLR)                      sqft_living   \n",
       "Polynomial Regression (PR)                          sqft_living   \n",
       "Multiple Linear Regression (MLR)                    11 features   \n",
       "Multivariate Polynomial Regression (MPR)            11 features   \n",
       "Ridge Regression (RR_MLR)                           11 features   \n",
       "Ridge Regression with Polynomial Transform (RR_...  11 features   \n",
       "\n",
       "                                                   Polynomial Transform  \\\n",
       "Model (cross-validation, cv =4)                                           \n",
       "Simple Linear Regression (SLR)                                     None   \n",
       "Simple Linear Regression (SLR)                                     None   \n",
       "Polynomial Regression (PR)                                 Second-order   \n",
       "Multiple Linear Regression (MLR)                                   None   \n",
       "Multivariate Polynomial Regression (MPR)                   Second-order   \n",
       "Ridge Regression (RR_MLR)                                          None   \n",
       "Ridge Regression with Polynomial Transform (RR_...         Second-order   \n",
       "\n",
       "                                                    Mean R^2 Value  \n",
       "Model (cross-validation, cv =4)                                     \n",
       "Simple Linear Regression (SLR)                            -0.00168  \n",
       "Simple Linear Regression (SLR)                             0.49215  \n",
       "Polynomial Regression (PR)                                 0.51891  \n",
       "Multiple Linear Regression (MLR)                           0.65434  \n",
       "Multivariate Polynomial Regression (MPR)                   0.72981  \n",
       "Ridge Regression (RR_MLR)                                  0.65434  \n",
       "Ridge Regression with Polynomial Transform (RR_...         0.72992  "
      ]
     },
     "execution_count": 47,
     "metadata": {},
     "output_type": "execute_result"
    }
   ],
   "source": [
    "# Create a dataframe to list the mean R^2 values of all models fitted in this project. \n",
    "\n",
    "# Create lists of the models, their predictors, and their order of polynomial transform\n",
    "model = ['Simple Linear Regression (SLR) ', 'Simple Linear Regression (SLR)', 'Polynomial Regression (PR)',\\\n",
    "         'Multiple Linear Regression (MLR)', 'Multivariate Polynomial Regression (MPR)', 'Ridge Regression (RR_MLR)',\\\n",
    "         'Ridge Regression with Polynomial Transform (RR_MPR)']\n",
    "\n",
    "Predictors = ['long', 'sqft_living', 'sqft_living', '11 features', '11 features', '11 features', '11 features']\n",
    "Polynomial_Transform = ['None', 'None', 'Second-order', 'None', 'Second-order', 'None', 'Second-order']\n",
    "\n",
    "# Create a list of the mean R^2 value of each model calculated by cross validation. \n",
    "R_squared = [-0.00168, 0.49215, 0.51891, 0.65434, 0.72981, 0.65434, 0.72992]\n",
    "\n",
    "list_zip = list(zip(Predictors, Polynomial_Transform, R_squared))\n",
    "\n",
    "df_models = pd.DataFrame(list_zip, index = model, columns = ['Features', 'Polynomial Transform',\\\n",
    "                                                             'Mean R^2 Value'])\n",
    "df_models.index.name = 'Model (cross-validation, cv =4)'\n",
    "\n",
    "df_models"
   ]
  },
  {
   "cell_type": "markdown",
   "metadata": {},
   "source": [
    "# Key Points"
   ]
  },
  {
   "cell_type": "markdown",
   "metadata": {},
   "source": [
    "### Data Wrangling\n",
    "\n",
    "1. Those columns (\"id\" and \"Unnamed: 0\" ) can be included in neither data analysis nor model development because despite data type being integer type, they don't possess the meaning of numerical variables. In fact, they serve more like labels for each row of the data. Therefore, it is necessary to remove them from the dataframe first so that they do not interfere with any upcoming data analysis or model development.\n",
    "\n",
    "2. Missing values cause errors during the process of fitting models. So, it is essential to implement a \"for loop\" that searches for columns containing missing values. In this project, missing values are found in the columns of 'bedrooms' and 'bathrooms.' Both features (data type = float) are needed to fit most models. So, the missing values are replaced with the means of their respective columns to facilitate the model development. \n",
    "\n",
    "### Exploratory Data Analysis\n",
    "\n",
    "1. To select features for fitting models that predict the price of a home, correlation analysis is performed with regard to the target variable 'price,' and the correlation coefficient is used as indicators of the strength of the relationship between a feature and 'price.' Only those features with correlation coefficients greater than 0.25 i.e., at least weakly correlated with 'price' are used to develop models. This dataset has eleven features of this nature.\n",
    "\n",
    "2. When using as many as eleven features to fit models, it is important to scrutinize whether there is multicollinearity among these features or not. In this project, the pairwise correlation analysis is performed to detect multicollinearity. It turns out that just 'sqft_living,' alone, it strongly correlates with four features (all five features are among those eleven features identified above). So, when refining models, multicollinearity needs to be addressed. \n",
    "\n",
    "3. The grouping of homes based on the total number of their floors provides an overview of what types of homes constitute the majority of homes in the area. This information is helpful when judging whether the prices predicted by models make sense or not. \n",
    "\n",
    "### Model Development\n",
    "\n",
    "1. Fitting a simple linear regression model (SLR Model) with the feature 'sqft_living' is a good starting point to determine the feasibility of using linear regression models to predict the price of a home. The R^2 value of this SLR Model, 0.49215, is low (below 0.5) but not too low to proceed further with linear regression. So, a MLR Model is fitted with all eleven features aforementioned. This MLR Model (R^2 value = 0.65434) indeed performs better than the SLR Model. So, using more features relevant to 'price' to fit models is essential.\n",
    "\n",
    "2. Apart from pursuing a MLR Model, it is also crucial to verify the presumption that a linear relationship exists between the feature used in the SLR Model and the target variable 'price.' This can be accomplished by examining how residuals spread out on a residual plot. The residual plot of 'price' vs. 'sqft_living' reveals that this feature actually has a curvilinear relationship with 'price.' Thus, a polynomial regression model (PR Model, degree =2) is fitted with this feature. The R^2 value of this PR Model is about 0.52, not far from 0.49 of the SLR model. So, a polynomial regression model fitted with a single feature can only achieve limited improvement on the performance of the model.\n",
    "\n",
    "3. The outcome of the PR Model hints that like the linear regression models, more features should be used to fit polynomial regression models as well. Hence, a multivariate polynomial regression model (MPR Model) using all eleven features as the input features is fitted. The entire process for fitting this model is rather tedious because performing second-order polynomial transfer on eleven features produces seventy-seven predictors. Therefore, it is beneficial to use Pipeline to streamline the process. In the end, this MPR Model explains about nearly 73% of the observed data (R^2 value = 0.72981), and it is the best performing model up to this point.\n",
    "\n",
    "### Model Evaluation and Refinement\n",
    "\n",
    "1. Despite being better performers of all models fitted during model development, the complexity of the MLP and MPR Models makes them more prone to overfitting. The likelihood of overfitting these models is investigated by using the R^2 values calculated from the training data and the testing data, of two new models (MLR_ov Model and MPR_ov Model) fitted for this purpose. The results show that these models perform only slightly worse on the testing data than on the training data. Thus, overfitting does not appear to be as serious as suspected.\n",
    " \n",
    "2. Besides the mild overfitting issue, multicollinearity still remains as a concern for models fitted with the eleven features. Ridge Regression is brought to alleviate both types of problems, and a Ridge Regression Model (RR_MPR_ov Model, Polynomial Transform, degree = 2, alpha = 0.1) is fitted by performing polynomial transformation on the eleven features. The comparison between this Ridge Regression Model (RR_MPR_ov Model) and the Multivariate Polynomial Regression Model (MPR_ov Model) indicates that the RR_MPR_ov Model has a slightly greater R^2 value on the testing data than the MPR_ov Model, but it has the identical R^2 value on the training data as the MPR_ov Model. So, for this dataset, Ridge Regression only marginally improves the performance of the MPR_ov Model.  \n",
    "\n",
    "3. Although based on R^2 values, Ridge Regression does not seem to offer a significant improvement on the performance of the MPR_ov Model, it attenuates the coefficients of the seventy-seven predictors by a great amount, reducing the impact of these predictors on the predicted 'price.'\n",
    "\n",
    "4. Alternately, cross-validation offers a more convincing improvement by Ridge Regression on the R^2 value front. The R^2 value 0.72992 of the RR_MPR Model is distinctively greater than 0.72981 of the MPR Model, though the difference between is still relatively small. On the other hand, even with cross-validation, Ridge Regression Model (RR_MLR Model) performs only as good as its MLR peer. This might be due to the fact that the MLR Model is not as overfitted as the MPR Model and multicollinearity does not interfering with the fitting of the MLR Model as much as the fitting of the MPR Model. So, the effect of Ridge Regression is muted in the case of the MLR Model. \n",
    "\n",
    "5. Finally, considering how similarly the two best models (the RR_MPR Model and the MPR Model) perform, whether or not Ridge Regression enhances the performance of models fitted with this dataset is debatable. Nevertheless, it is advisable that when a new dataset is used or new data are added to the current dataset to fit models, both types of models one with Ridge Regression and the other without should be attempted. If the difference between the performances of these two types of models is much more evident than what has been observed on models fitted with the current dataset, which model to use for predicting the price of a home will be clear. "
   ]
  }
 ],
 "metadata": {
  "kernelspec": {
   "display_name": "Python 3 (ipykernel)",
   "language": "python",
   "name": "python3"
  },
  "language_info": {
   "codemirror_mode": {
    "name": "ipython",
    "version": 3
   },
   "file_extension": ".py",
   "mimetype": "text/x-python",
   "name": "python",
   "nbconvert_exporter": "python",
   "pygments_lexer": "ipython3",
   "version": "3.9.7"
  },
  "widgets": {
   "state": {},
   "version": "1.1.2"
  }
 },
 "nbformat": 4,
 "nbformat_minor": 4
}
